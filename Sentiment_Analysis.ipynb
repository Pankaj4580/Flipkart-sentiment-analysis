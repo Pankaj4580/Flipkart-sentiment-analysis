{
 "cells": [
  {
   "cell_type": "code",
   "execution_count": 1,
   "id": "sJt3HGU2PrYi",
   "metadata": {
    "id": "sJt3HGU2PrYi"
   },
   "outputs": [
    {
     "name": "stdout",
     "output_type": "stream",
     "text": [
      "Requirement already satisfied: pandas in c:\\users\\pankaj kumar yadav\\appdata\\local\\programs\\python\\python312\\lib\\site-packages (2.1.1)\n",
      "Requirement already satisfied: numpy>=1.26.0 in c:\\users\\pankaj kumar yadav\\appdata\\local\\programs\\python\\python312\\lib\\site-packages (from pandas) (2.0.0)\n",
      "Requirement already satisfied: python-dateutil>=2.8.2 in c:\\users\\pankaj kumar yadav\\appdata\\local\\programs\\python\\python312\\lib\\site-packages (from pandas) (2.9.0.post0)\n",
      "Requirement already satisfied: pytz>=2020.1 in c:\\users\\pankaj kumar yadav\\appdata\\local\\programs\\python\\python312\\lib\\site-packages (from pandas) (2024.1)\n",
      "Requirement already satisfied: tzdata>=2022.1 in c:\\users\\pankaj kumar yadav\\appdata\\local\\programs\\python\\python312\\lib\\site-packages (from pandas) (2024.1)\n",
      "Requirement already satisfied: six>=1.5 in c:\\users\\pankaj kumar yadav\\appdata\\local\\programs\\python\\python312\\lib\\site-packages (from python-dateutil>=2.8.2->pandas) (1.16.0)\n",
      "Requirement already satisfied: seaborn in c:\\users\\pankaj kumar yadav\\appdata\\local\\programs\\python\\python312\\lib\\site-packages (0.13.2)\n",
      "Requirement already satisfied: numpy!=1.24.0,>=1.20 in c:\\users\\pankaj kumar yadav\\appdata\\local\\programs\\python\\python312\\lib\\site-packages (from seaborn) (2.0.0)\n",
      "Requirement already satisfied: pandas>=1.2 in c:\\users\\pankaj kumar yadav\\appdata\\local\\programs\\python\\python312\\lib\\site-packages (from seaborn) (2.1.1)\n",
      "Requirement already satisfied: matplotlib!=3.6.1,>=3.4 in c:\\users\\pankaj kumar yadav\\appdata\\local\\programs\\python\\python312\\lib\\site-packages (from seaborn) (3.9.0)\n",
      "Requirement already satisfied: contourpy>=1.0.1 in c:\\users\\pankaj kumar yadav\\appdata\\local\\programs\\python\\python312\\lib\\site-packages (from matplotlib!=3.6.1,>=3.4->seaborn) (1.2.1)\n",
      "Requirement already satisfied: cycler>=0.10 in c:\\users\\pankaj kumar yadav\\appdata\\local\\programs\\python\\python312\\lib\\site-packages (from matplotlib!=3.6.1,>=3.4->seaborn) (0.12.1)\n",
      "Requirement already satisfied: fonttools>=4.22.0 in c:\\users\\pankaj kumar yadav\\appdata\\local\\programs\\python\\python312\\lib\\site-packages (from matplotlib!=3.6.1,>=3.4->seaborn) (4.53.0)\n",
      "Requirement already satisfied: kiwisolver>=1.3.1 in c:\\users\\pankaj kumar yadav\\appdata\\local\\programs\\python\\python312\\lib\\site-packages (from matplotlib!=3.6.1,>=3.4->seaborn) (1.4.5)\n",
      "Requirement already satisfied: packaging>=20.0 in c:\\users\\pankaj kumar yadav\\appdata\\local\\programs\\python\\python312\\lib\\site-packages (from matplotlib!=3.6.1,>=3.4->seaborn) (24.0)\n",
      "Requirement already satisfied: pillow>=8 in c:\\users\\pankaj kumar yadav\\appdata\\local\\programs\\python\\python312\\lib\\site-packages (from matplotlib!=3.6.1,>=3.4->seaborn) (10.3.0)\n",
      "Requirement already satisfied: pyparsing>=2.3.1 in c:\\users\\pankaj kumar yadav\\appdata\\local\\programs\\python\\python312\\lib\\site-packages (from matplotlib!=3.6.1,>=3.4->seaborn) (3.1.2)\n",
      "Requirement already satisfied: python-dateutil>=2.7 in c:\\users\\pankaj kumar yadav\\appdata\\local\\programs\\python\\python312\\lib\\site-packages (from matplotlib!=3.6.1,>=3.4->seaborn) (2.9.0.post0)\n",
      "Requirement already satisfied: pytz>=2020.1 in c:\\users\\pankaj kumar yadav\\appdata\\local\\programs\\python\\python312\\lib\\site-packages (from pandas>=1.2->seaborn) (2024.1)\n",
      "Requirement already satisfied: tzdata>=2022.1 in c:\\users\\pankaj kumar yadav\\appdata\\local\\programs\\python\\python312\\lib\\site-packages (from pandas>=1.2->seaborn) (2024.1)\n",
      "Requirement already satisfied: six>=1.5 in c:\\users\\pankaj kumar yadav\\appdata\\local\\programs\\python\\python312\\lib\\site-packages (from python-dateutil>=2.7->matplotlib!=3.6.1,>=3.4->seaborn) (1.16.0)\n",
      "Requirement already satisfied: numpy in c:\\users\\pankaj kumar yadav\\appdata\\local\\programs\\python\\python312\\lib\\site-packages (2.0.0)\n",
      "Requirement already satisfied: matplotlib in c:\\users\\pankaj kumar yadav\\appdata\\local\\programs\\python\\python312\\lib\\site-packages (3.9.0)\n",
      "Requirement already satisfied: contourpy>=1.0.1 in c:\\users\\pankaj kumar yadav\\appdata\\local\\programs\\python\\python312\\lib\\site-packages (from matplotlib) (1.2.1)\n",
      "Requirement already satisfied: cycler>=0.10 in c:\\users\\pankaj kumar yadav\\appdata\\local\\programs\\python\\python312\\lib\\site-packages (from matplotlib) (0.12.1)\n",
      "Requirement already satisfied: fonttools>=4.22.0 in c:\\users\\pankaj kumar yadav\\appdata\\local\\programs\\python\\python312\\lib\\site-packages (from matplotlib) (4.53.0)\n",
      "Requirement already satisfied: kiwisolver>=1.3.1 in c:\\users\\pankaj kumar yadav\\appdata\\local\\programs\\python\\python312\\lib\\site-packages (from matplotlib) (1.4.5)\n",
      "Requirement already satisfied: numpy>=1.23 in c:\\users\\pankaj kumar yadav\\appdata\\local\\programs\\python\\python312\\lib\\site-packages (from matplotlib) (2.0.0)\n",
      "Requirement already satisfied: packaging>=20.0 in c:\\users\\pankaj kumar yadav\\appdata\\local\\programs\\python\\python312\\lib\\site-packages (from matplotlib) (24.0)\n",
      "Requirement already satisfied: pillow>=8 in c:\\users\\pankaj kumar yadav\\appdata\\local\\programs\\python\\python312\\lib\\site-packages (from matplotlib) (10.3.0)\n",
      "Requirement already satisfied: pyparsing>=2.3.1 in c:\\users\\pankaj kumar yadav\\appdata\\local\\programs\\python\\python312\\lib\\site-packages (from matplotlib) (3.1.2)\n",
      "Requirement already satisfied: python-dateutil>=2.7 in c:\\users\\pankaj kumar yadav\\appdata\\local\\programs\\python\\python312\\lib\\site-packages (from matplotlib) (2.9.0.post0)\n",
      "Requirement already satisfied: six>=1.5 in c:\\users\\pankaj kumar yadav\\appdata\\local\\programs\\python\\python312\\lib\\site-packages (from python-dateutil>=2.7->matplotlib) (1.16.0)\n"
     ]
    }
   ],
   "source": [
    "!pip install -q nltk\n",
    "!pip install pandas\n",
    "!pip install seaborn\n",
    "!pip install numpy\n",
    "!pip install matplotlib"
   ]
  },
  {
   "cell_type": "code",
   "execution_count": null,
   "id": "9jaznwRGPvcp",
   "metadata": {
    "colab": {
     "base_uri": "https://localhost:8080/"
    },
    "id": "9jaznwRGPvcp",
    "outputId": "d5bc1d02-60d0-4f48-e220-e4f23fe3531c"
   },
   "outputs": [],
   "source": [
    "import nltk\n",
    "\n",
    "nltk.download(\"punkt\")\n",
    "nltk.download(\"wordnet\")\n",
    "nltk.download(\"stopwords\")\n",
    "nltk.download(\"omw-1.4\")"
   ]
  },
  {
   "cell_type": "code",
   "execution_count": 3,
   "id": "mwhJ1wO9Py39",
   "metadata": {
    "id": "mwhJ1wO9Py39"
   },
   "outputs": [],
   "source": [
    "import re\n",
    "from nltk.tokenize import sent_tokenize, word_tokenize\n",
    "from nltk.corpus import stopwords\n",
    "from nltk.stem.porter import PorterStemmer\n",
    "from nltk.stem import WordNetLemmatizer"
   ]
  },
  {
   "cell_type": "code",
   "execution_count": 4,
   "id": "e9cc292a-f4f9-4274-842c-b079355b14b9",
   "metadata": {},
   "outputs": [
    {
     "name": "stdout",
     "output_type": "stream",
     "text": [
      "Requirement already satisfied: numpy in c:\\users\\pankaj kumar yadav\\appdata\\local\\programs\\python\\python312\\lib\\site-packages (2.0.0)\n",
      "Requirement already satisfied: scipy in c:\\users\\pankaj kumar yadav\\appdata\\local\\programs\\python\\python312\\lib\\site-packages (1.13.1)\n",
      "Requirement already satisfied: pandas in c:\\users\\pankaj kumar yadav\\appdata\\local\\programs\\python\\python312\\lib\\site-packages (2.1.1)\n",
      "Requirement already satisfied: ipython in c:\\users\\pankaj kumar yadav\\appdata\\local\\programs\\python\\python312\\lib\\site-packages (8.24.0)\n",
      "Requirement already satisfied: python-dateutil>=2.8.2 in c:\\users\\pankaj kumar yadav\\appdata\\local\\programs\\python\\python312\\lib\\site-packages (from pandas) (2.9.0.post0)\n",
      "Requirement already satisfied: pytz>=2020.1 in c:\\users\\pankaj kumar yadav\\appdata\\local\\programs\\python\\python312\\lib\\site-packages (from pandas) (2024.1)\n",
      "Requirement already satisfied: tzdata>=2022.1 in c:\\users\\pankaj kumar yadav\\appdata\\local\\programs\\python\\python312\\lib\\site-packages (from pandas) (2024.1)\n",
      "Requirement already satisfied: decorator in c:\\users\\pankaj kumar yadav\\appdata\\local\\programs\\python\\python312\\lib\\site-packages (from ipython) (5.1.1)\n",
      "Requirement already satisfied: jedi>=0.16 in c:\\users\\pankaj kumar yadav\\appdata\\local\\programs\\python\\python312\\lib\\site-packages (from ipython) (0.19.1)\n",
      "Requirement already satisfied: matplotlib-inline in c:\\users\\pankaj kumar yadav\\appdata\\local\\programs\\python\\python312\\lib\\site-packages (from ipython) (0.1.7)\n",
      "Requirement already satisfied: prompt-toolkit<3.1.0,>=3.0.41 in c:\\users\\pankaj kumar yadav\\appdata\\local\\programs\\python\\python312\\lib\\site-packages (from ipython) (3.0.43)\n",
      "Requirement already satisfied: pygments>=2.4.0 in c:\\users\\pankaj kumar yadav\\appdata\\local\\programs\\python\\python312\\lib\\site-packages (from ipython) (2.18.0)\n",
      "Requirement already satisfied: stack-data in c:\\users\\pankaj kumar yadav\\appdata\\local\\programs\\python\\python312\\lib\\site-packages (from ipython) (0.6.3)\n",
      "Requirement already satisfied: traitlets>=5.13.0 in c:\\users\\pankaj kumar yadav\\appdata\\local\\programs\\python\\python312\\lib\\site-packages (from ipython) (5.14.3)\n",
      "Requirement already satisfied: colorama in c:\\users\\pankaj kumar yadav\\appdata\\local\\programs\\python\\python312\\lib\\site-packages (from ipython) (0.4.6)\n",
      "Requirement already satisfied: parso<0.9.0,>=0.8.3 in c:\\users\\pankaj kumar yadav\\appdata\\local\\programs\\python\\python312\\lib\\site-packages (from jedi>=0.16->ipython) (0.8.4)\n",
      "Requirement already satisfied: wcwidth in c:\\users\\pankaj kumar yadav\\appdata\\local\\programs\\python\\python312\\lib\\site-packages (from prompt-toolkit<3.1.0,>=3.0.41->ipython) (0.2.13)\n",
      "Requirement already satisfied: six>=1.5 in c:\\users\\pankaj kumar yadav\\appdata\\local\\programs\\python\\python312\\lib\\site-packages (from python-dateutil>=2.8.2->pandas) (1.16.0)\n",
      "Requirement already satisfied: executing>=1.2.0 in c:\\users\\pankaj kumar yadav\\appdata\\local\\programs\\python\\python312\\lib\\site-packages (from stack-data->ipython) (2.0.1)\n",
      "Requirement already satisfied: asttokens>=2.1.0 in c:\\users\\pankaj kumar yadav\\appdata\\local\\programs\\python\\python312\\lib\\site-packages (from stack-data->ipython) (2.4.1)\n",
      "Requirement already satisfied: pure-eval in c:\\users\\pankaj kumar yadav\\appdata\\local\\programs\\python\\python312\\lib\\site-packages (from stack-data->ipython) (0.2.2)\n"
     ]
    }
   ],
   "source": [
    "!pip install numpy scipy pandas ipython"
   ]
  },
  {
   "cell_type": "code",
   "execution_count": 5,
   "id": "b7b6cb21-070a-4ab7-a2b4-f1dcce3ddc6f",
   "metadata": {},
   "outputs": [
    {
     "name": "stdout",
     "output_type": "stream",
     "text": [
      "Collecting numpy==1.20.3\n",
      "  Downloading numpy-1.20.3.zip (7.8 MB)\n",
      "     ---------------------------------------- 0.0/7.8 MB ? eta -:--:--\n",
      "     ---------------------------------------- 0.0/7.8 MB 1.3 MB/s eta 0:00:07\n",
      "     ---------------------------------------- 0.1/7.8 MB 1.0 MB/s eta 0:00:08\n",
      "      --------------------------------------- 0.2/7.8 MB 1.2 MB/s eta 0:00:07\n",
      "     - -------------------------------------- 0.3/7.8 MB 1.7 MB/s eta 0:00:05\n",
      "     -- ------------------------------------- 0.5/7.8 MB 2.4 MB/s eta 0:00:03\n",
      "     ---- ----------------------------------- 1.0/7.8 MB 3.4 MB/s eta 0:00:03\n",
      "     ------ --------------------------------- 1.3/7.8 MB 3.9 MB/s eta 0:00:02\n",
      "     -------- ------------------------------- 1.6/7.8 MB 4.5 MB/s eta 0:00:02\n",
      "     ---------- ----------------------------- 2.1/7.8 MB 5.1 MB/s eta 0:00:02\n",
      "     ---------- ----------------------------- 2.1/7.8 MB 5.1 MB/s eta 0:00:02\n",
      "     --------------- ------------------------ 3.1/7.8 MB 6.0 MB/s eta 0:00:01\n",
      "     ------------------ --------------------- 3.6/7.8 MB 6.4 MB/s eta 0:00:01\n",
      "     --------------------- ------------------ 4.1/7.8 MB 6.9 MB/s eta 0:00:01\n",
      "     ----------------------- ---------------- 4.6/7.8 MB 7.1 MB/s eta 0:00:01\n",
      "     -------------------------- ------------- 5.1/7.8 MB 7.4 MB/s eta 0:00:01\n",
      "     ---------------------------- ----------- 5.5/7.8 MB 7.5 MB/s eta 0:00:01\n",
      "     ------------------------------- -------- 6.1/7.8 MB 7.8 MB/s eta 0:00:01\n",
      "     --------------------------------- ------ 6.5/7.8 MB 7.9 MB/s eta 0:00:01\n",
      "     ------------------------------------ --- 7.0/7.8 MB 8.0 MB/s eta 0:00:01\n",
      "     ------------------------------------ --- 7.1/7.8 MB 8.0 MB/s eta 0:00:01\n",
      "     -------------------------------------- - 7.4/7.8 MB 7.6 MB/s eta 0:00:01\n",
      "     ---------------------------------------- 7.8/7.8 MB 7.8 MB/s eta 0:00:00\n",
      "  Installing build dependencies: started\n",
      "  Installing build dependencies: finished with status 'done'\n",
      "  Getting requirements to build wheel: started\n",
      "  Getting requirements to build wheel: finished with status 'done'\n"
     ]
    },
    {
     "name": "stderr",
     "output_type": "stream",
     "text": [
      "ERROR: Exception:\n",
      "Traceback (most recent call last):\n",
      "  File \"C:\\Users\\Pankaj Kumar Yadav\\AppData\\Local\\Programs\\Python\\Python312\\Lib\\site-packages\\pip\\_internal\\cli\\base_command.py\", line 179, in exc_logging_wrapper\n",
      "    status = run_func(*args)\n",
      "             ^^^^^^^^^^^^^^^\n",
      "  File \"C:\\Users\\Pankaj Kumar Yadav\\AppData\\Local\\Programs\\Python\\Python312\\Lib\\site-packages\\pip\\_internal\\cli\\req_command.py\", line 67, in wrapper\n",
      "    return func(self, options, args)\n",
      "           ^^^^^^^^^^^^^^^^^^^^^^^^^\n",
      "  File \"C:\\Users\\Pankaj Kumar Yadav\\AppData\\Local\\Programs\\Python\\Python312\\Lib\\site-packages\\pip\\_internal\\commands\\install.py\", line 377, in run\n",
      "    requirement_set = resolver.resolve(\n",
      "                      ^^^^^^^^^^^^^^^^^\n",
      "  File \"C:\\Users\\Pankaj Kumar Yadav\\AppData\\Local\\Programs\\Python\\Python312\\Lib\\site-packages\\pip\\_internal\\resolution\\resolvelib\\resolver.py\", line 95, in resolve\n",
      "    result = self._result = resolver.resolve(\n",
      "                            ^^^^^^^^^^^^^^^^^\n",
      "  File \"C:\\Users\\Pankaj Kumar Yadav\\AppData\\Local\\Programs\\Python\\Python312\\Lib\\site-packages\\pip\\_vendor\\resolvelib\\resolvers.py\", line 546, in resolve\n",
      "    state = resolution.resolve(requirements, max_rounds=max_rounds)\n",
      "            ^^^^^^^^^^^^^^^^^^^^^^^^^^^^^^^^^^^^^^^^^^^^^^^^^^^^^^^\n",
      "  File \"C:\\Users\\Pankaj Kumar Yadav\\AppData\\Local\\Programs\\Python\\Python312\\Lib\\site-packages\\pip\\_vendor\\resolvelib\\resolvers.py\", line 397, in resolve\n",
      "    self._add_to_criteria(self.state.criteria, r, parent=None)\n",
      "  File \"C:\\Users\\Pankaj Kumar Yadav\\AppData\\Local\\Programs\\Python\\Python312\\Lib\\site-packages\\pip\\_vendor\\resolvelib\\resolvers.py\", line 173, in _add_to_criteria\n",
      "    if not criterion.candidates:\n",
      "           ^^^^^^^^^^^^^^^^^^^^\n",
      "  File \"C:\\Users\\Pankaj Kumar Yadav\\AppData\\Local\\Programs\\Python\\Python312\\Lib\\site-packages\\pip\\_vendor\\resolvelib\\structs.py\", line 156, in __bool__\n",
      "    return bool(self._sequence)\n",
      "           ^^^^^^^^^^^^^^^^^^^^\n",
      "  File \"C:\\Users\\Pankaj Kumar Yadav\\AppData\\Local\\Programs\\Python\\Python312\\Lib\\site-packages\\pip\\_internal\\resolution\\resolvelib\\found_candidates.py\", line 174, in __bool__\n",
      "    return any(self)\n",
      "           ^^^^^^^^^\n",
      "  File \"C:\\Users\\Pankaj Kumar Yadav\\AppData\\Local\\Programs\\Python\\Python312\\Lib\\site-packages\\pip\\_internal\\resolution\\resolvelib\\found_candidates.py\", line 162, in <genexpr>\n",
      "    return (c for c in iterator if id(c) not in self._incompatible_ids)\n",
      "           ^^^^^^^^^^^^^^^^^^^^^^^^^^^^^^^^^^^^^^^^^^^^^^^^^^^^^^^^^^^^\n",
      "  File \"C:\\Users\\Pankaj Kumar Yadav\\AppData\\Local\\Programs\\Python\\Python312\\Lib\\site-packages\\pip\\_internal\\resolution\\resolvelib\\found_candidates.py\", line 53, in _iter_built\n",
      "    candidate = func()\n",
      "                ^^^^^^\n",
      "  File \"C:\\Users\\Pankaj Kumar Yadav\\AppData\\Local\\Programs\\Python\\Python312\\Lib\\site-packages\\pip\\_internal\\resolution\\resolvelib\\factory.py\", line 185, in _make_candidate_from_link\n",
      "    base: Optional[BaseCandidate] = self._make_base_candidate_from_link(\n",
      "                                    ^^^^^^^^^^^^^^^^^^^^^^^^^^^^^^^^^^^^\n",
      "  File \"C:\\Users\\Pankaj Kumar Yadav\\AppData\\Local\\Programs\\Python\\Python312\\Lib\\site-packages\\pip\\_internal\\resolution\\resolvelib\\factory.py\", line 231, in _make_base_candidate_from_link\n",
      "    self._link_candidate_cache[link] = LinkCandidate(\n",
      "                                       ^^^^^^^^^^^^^^\n",
      "  File \"C:\\Users\\Pankaj Kumar Yadav\\AppData\\Local\\Programs\\Python\\Python312\\Lib\\site-packages\\pip\\_internal\\resolution\\resolvelib\\candidates.py\", line 303, in __init__\n",
      "    super().__init__(\n",
      "  File \"C:\\Users\\Pankaj Kumar Yadav\\AppData\\Local\\Programs\\Python\\Python312\\Lib\\site-packages\\pip\\_internal\\resolution\\resolvelib\\candidates.py\", line 158, in __init__\n",
      "    self.dist = self._prepare()\n",
      "                ^^^^^^^^^^^^^^^\n",
      "  File \"C:\\Users\\Pankaj Kumar Yadav\\AppData\\Local\\Programs\\Python\\Python312\\Lib\\site-packages\\pip\\_internal\\resolution\\resolvelib\\candidates.py\", line 235, in _prepare\n",
      "    dist = self._prepare_distribution()\n",
      "           ^^^^^^^^^^^^^^^^^^^^^^^^^^^^\n",
      "  File \"C:\\Users\\Pankaj Kumar Yadav\\AppData\\Local\\Programs\\Python\\Python312\\Lib\\site-packages\\pip\\_internal\\resolution\\resolvelib\\candidates.py\", line 314, in _prepare_distribution\n",
      "    return preparer.prepare_linked_requirement(self._ireq, parallel_builds=True)\n",
      "           ^^^^^^^^^^^^^^^^^^^^^^^^^^^^^^^^^^^^^^^^^^^^^^^^^^^^^^^^^^^^^^^^^^^^^\n",
      "  File \"C:\\Users\\Pankaj Kumar Yadav\\AppData\\Local\\Programs\\Python\\Python312\\Lib\\site-packages\\pip\\_internal\\operations\\prepare.py\", line 527, in prepare_linked_requirement\n",
      "    return self._prepare_linked_requirement(req, parallel_builds)\n",
      "           ^^^^^^^^^^^^^^^^^^^^^^^^^^^^^^^^^^^^^^^^^^^^^^^^^^^^^^\n",
      "  File \"C:\\Users\\Pankaj Kumar Yadav\\AppData\\Local\\Programs\\Python\\Python312\\Lib\\site-packages\\pip\\_internal\\operations\\prepare.py\", line 642, in _prepare_linked_requirement\n",
      "    dist = _get_prepared_distribution(\n",
      "           ^^^^^^^^^^^^^^^^^^^^^^^^^^^\n",
      "  File \"C:\\Users\\Pankaj Kumar Yadav\\AppData\\Local\\Programs\\Python\\Python312\\Lib\\site-packages\\pip\\_internal\\operations\\prepare.py\", line 72, in _get_prepared_distribution\n",
      "    abstract_dist.prepare_distribution_metadata(\n",
      "  File \"C:\\Users\\Pankaj Kumar Yadav\\AppData\\Local\\Programs\\Python\\Python312\\Lib\\site-packages\\pip\\_internal\\distributions\\sdist.py\", line 56, in prepare_distribution_metadata\n",
      "    self._install_build_reqs(finder)\n",
      "  File \"C:\\Users\\Pankaj Kumar Yadav\\AppData\\Local\\Programs\\Python\\Python312\\Lib\\site-packages\\pip\\_internal\\distributions\\sdist.py\", line 126, in _install_build_reqs\n",
      "    build_reqs = self._get_build_requires_wheel()\n",
      "                 ^^^^^^^^^^^^^^^^^^^^^^^^^^^^^^^^\n",
      "  File \"C:\\Users\\Pankaj Kumar Yadav\\AppData\\Local\\Programs\\Python\\Python312\\Lib\\site-packages\\pip\\_internal\\distributions\\sdist.py\", line 103, in _get_build_requires_wheel\n",
      "    return backend.get_requires_for_build_wheel()\n",
      "           ^^^^^^^^^^^^^^^^^^^^^^^^^^^^^^^^^^^^^^\n",
      "  File \"C:\\Users\\Pankaj Kumar Yadav\\AppData\\Local\\Programs\\Python\\Python312\\Lib\\site-packages\\pip\\_internal\\utils\\misc.py\", line 709, in get_requires_for_build_wheel\n",
      "    return super().get_requires_for_build_wheel(config_settings=cs)\n",
      "           ^^^^^^^^^^^^^^^^^^^^^^^^^^^^^^^^^^^^^^^^^^^^^^^^^^^^^^^^\n",
      "  File \"C:\\Users\\Pankaj Kumar Yadav\\AppData\\Local\\Programs\\Python\\Python312\\Lib\\site-packages\\pip\\_vendor\\pyproject_hooks\\_impl.py\", line 166, in get_requires_for_build_wheel\n",
      "    return self._call_hook('get_requires_for_build_wheel', {\n",
      "           ^^^^^^^^^^^^^^^^^^^^^^^^^^^^^^^^^^^^^^^^^^^^^^^^^\n",
      "  File \"C:\\Users\\Pankaj Kumar Yadav\\AppData\\Local\\Programs\\Python\\Python312\\Lib\\site-packages\\pip\\_vendor\\pyproject_hooks\\_impl.py\", line 321, in _call_hook\n",
      "    raise BackendUnavailable(data.get('traceback', ''))\n",
      "pip._vendor.pyproject_hooks._impl.BackendUnavailable: Traceback (most recent call last):\n",
      "  File \"C:\\Users\\Pankaj Kumar Yadav\\AppData\\Local\\Programs\\Python\\Python312\\Lib\\site-packages\\pip\\_vendor\\pyproject_hooks\\_in_process\\_in_process.py\", line 77, in _build_backend\n",
      "    obj = import_module(mod_path)\n",
      "          ^^^^^^^^^^^^^^^^^^^^^^^\n",
      "  File \"C:\\Users\\Pankaj Kumar Yadav\\AppData\\Local\\Programs\\Python\\Python312\\Lib\\importlib\\__init__.py\", line 90, in import_module\n",
      "    return _bootstrap._gcd_import(name[level:], package, level)\n",
      "           ^^^^^^^^^^^^^^^^^^^^^^^^^^^^^^^^^^^^^^^^^^^^^^^^^^^^\n",
      "  File \"<frozen importlib._bootstrap>\", line 1387, in _gcd_import\n",
      "  File \"<frozen importlib._bootstrap>\", line 1360, in _find_and_load\n",
      "  File \"<frozen importlib._bootstrap>\", line 1310, in _find_and_load_unlocked\n",
      "  File \"<frozen importlib._bootstrap>\", line 488, in _call_with_frames_removed\n",
      "  File \"<frozen importlib._bootstrap>\", line 1387, in _gcd_import\n",
      "  File \"<frozen importlib._bootstrap>\", line 1360, in _find_and_load\n",
      "  File \"<frozen importlib._bootstrap>\", line 1331, in _find_and_load_unlocked\n",
      "  File \"<frozen importlib._bootstrap>\", line 935, in _load_unlocked\n",
      "  File \"<frozen importlib._bootstrap_external>\", line 995, in exec_module\n",
      "  File \"<frozen importlib._bootstrap>\", line 488, in _call_with_frames_removed\n",
      "  File \"C:\\Users\\Pankaj Kumar Yadav\\AppData\\Local\\Temp\\pip-build-env-wjrwp2vh\\overlay\\Lib\\site-packages\\setuptools\\__init__.py\", line 18, in <module>\n",
      "    from setuptools.extern.six import PY3, string_types\n",
      "ModuleNotFoundError: No module named 'setuptools.extern.six'\n",
      "\n"
     ]
    }
   ],
   "source": [
    "!pip install numpy==1.20.3"
   ]
  },
  {
   "cell_type": "code",
   "execution_count": 9,
   "id": "073cc3ad-4b04-4240-90c6-fd754ebd8084",
   "metadata": {},
   "outputs": [
    {
     "ename": "IndentationError",
     "evalue": "unexpected indent (3401883524.py, line 2)",
     "output_type": "error",
     "traceback": [
      "\u001b[1;36m  Cell \u001b[1;32mIn[9], line 2\u001b[1;36m\u001b[0m\n\u001b[1;33m    from pandas.core.api import (\u001b[0m\n\u001b[1;37m    ^\u001b[0m\n\u001b[1;31mIndentationError\u001b[0m\u001b[1;31m:\u001b[0m unexpected indent\n"
     ]
    }
   ],
   "source": [
    "import pandas.core.config_init  \n",
    " from pandas.core.api import (\n",
    "\n",
    " ArrowDtype,\n",
    "   Int8Dtype,\n",
    "  Int16Dtype,\n",
    "  Int32Dtype,\n",
    "     65     Int64Dtype,\n",
    "     66     UInt8Dtype,\n",
    "     67     UInt16Dtype,\n",
    "     68     UInt32Dtype,\n",
    "     69     UInt64Dtype,\n",
    "     70     Float32Dtype,\n",
    "     71     Float64Dtype,\n",
    "     72     CategoricalDtype,\n",
    "     73     PeriodDtype,\n",
    "     74     IntervalDtype,\n",
    "     75     DatetimeTZDtype,\n",
    "     76     StringDtype,\n",
    "     77     BooleanDtype,\n",
    "     78     # missing\n",
    "     79     NA,\n",
    "     80     isna,\n",
    "     81     isnull,\n",
    "     82     notna,\n",
    "     83     notnull,\n",
    "     84     # indexes\n",
    "     85     Index,\n",
    "     86     CategoricalIndex,\n",
    "     87     RangeIndex,\n",
    "     88     MultiIndex,\n",
    "     89     IntervalIndex,\n",
    "     90     TimedeltaIndex,\n",
    "     91     DatetimeIndex,\n",
    "     92     PeriodIndex,\n",
    "     93     IndexSlice,\n",
    "     94     # tseries\n",
    "     95     NaT,\n",
    "     96     Period,\n",
    "     97     period_range,\n",
    "     98     Timedelta,\n",
    "     99     timedelta_range,\n",
    "    100     Timestamp,\n",
    "    101     date_range,\n",
    "    102     bdate_range,\n",
    "    103     Interval,\n",
    "    104     interval_range,\n",
    "    105     DateOffset,\n",
    "    106     # conversion\n",
    "    107     to_numeric,\n",
    "    108     to_datetime,\n",
    "    109     to_timedelta,\n",
    "    110     # misc\n",
    "    111     Flags,\n",
    "    112     Grouper,\n",
    "    113     factorize,\n",
    "    114     unique,\n",
    "    115     value_counts,\n",
    "    116     NamedAgg,\n",
    "    117     array,\n",
    "    118     Categorical,\n",
    "    119     set_eng_float_format,\n",
    "    120     Series,\n",
    "    121     DataFrame,\n",
    "    122 )\n",
    "    124 from pandas.core.dtypes.dtypes import SparseDtype\n",
    "    126 from pandas.tseries.api import infer_freq\n",
    "\n",
    "File ~\\AppData\\Local\\Programs\\Python\\Python312\\Lib\\site-packages\\pandas\\core\\api.py:1\n",
    "----> 1 from pandas._libs import (\n",
    "      2     NaT,\n",
    "      3     Period,\n",
    "      4     Timedelta,\n",
    "      5     Timestamp,\n",
    "      6 )\n",
    "      7 from pandas._libs.missing import NA\n",
    "      9 from pandas.core.dtypes.dtypes import (\n",
    "     10     ArrowDtype,\n",
    "     11     CategoricalDtype,\n",
    "   (...)\n",
    "     14     PeriodDtype,\n",
    "     15 )\n",
    "\n",
    "File ~\\AppData\\Local\\Programs\\Python\\Python312\\Lib\\site-packages\\pandas\\_libs\\__init__.py:18\n",
    "     16 import pandas._libs.pandas_parser  # noqa: E501 # isort: skip # type: ignore[reportUnusedImport]\n",
    "     17 import pandas._libs.pandas_datetime  # noqa: F401,E501 # isort: skip # type: ignore[reportUnusedImport]\n",
    "---> 18 from pandas._libs.interval import Interval\n",
    "     19 from pandas._libs.tslibs import (\n",
    "     20     NaT,\n",
    "     21     NaTType,\n",
    "   (...)\n",
    "     26     iNaT,\n",
    "     27 )"
   ]
  },
  {
   "cell_type": "code",
   "execution_count": 8,
   "id": "4ea95d9b-3292-4a8d-a61b-79affb7916da",
   "metadata": {},
   "outputs": [
    {
     "ename": "ValueError",
     "evalue": "numpy.dtype size changed, may indicate binary incompatibility. Expected 96 from C header, got 88 from PyObject",
     "output_type": "error",
     "traceback": [
      "\u001b[1;31m---------------------------------------------------------------------------\u001b[0m",
      "\u001b[1;31mValueError\u001b[0m                                Traceback (most recent call last)",
      "Cell \u001b[1;32mIn[8], line 1\u001b[0m\n\u001b[1;32m----> 1\u001b[0m \u001b[38;5;28;01mimport\u001b[39;00m \u001b[38;5;21;01mpandas\u001b[39;00m \u001b[38;5;28;01mas\u001b[39;00m \u001b[38;5;21;01mpd\u001b[39;00m\n",
      "File \u001b[1;32m~\\AppData\\Local\\Programs\\Python\\Python312\\Lib\\site-packages\\pandas\\__init__.py:59\u001b[0m\n\u001b[0;32m     56\u001b[0m \u001b[38;5;66;03m# let init-time option registration happen\u001b[39;00m\n\u001b[0;32m     57\u001b[0m \u001b[38;5;28;01mimport\u001b[39;00m \u001b[38;5;21;01mpandas\u001b[39;00m\u001b[38;5;21;01m.\u001b[39;00m\u001b[38;5;21;01mcore\u001b[39;00m\u001b[38;5;21;01m.\u001b[39;00m\u001b[38;5;21;01mconfig_init\u001b[39;00m  \u001b[38;5;66;03m# pyright: ignore[reportUnusedImport] # noqa: F401\u001b[39;00m\n\u001b[1;32m---> 59\u001b[0m \u001b[38;5;28;01mfrom\u001b[39;00m \u001b[38;5;21;01mpandas\u001b[39;00m\u001b[38;5;21;01m.\u001b[39;00m\u001b[38;5;21;01mcore\u001b[39;00m\u001b[38;5;21;01m.\u001b[39;00m\u001b[38;5;21;01mapi\u001b[39;00m \u001b[38;5;28;01mimport\u001b[39;00m (\n\u001b[0;32m     60\u001b[0m     \u001b[38;5;66;03m# dtype\u001b[39;00m\n\u001b[0;32m     61\u001b[0m     ArrowDtype,\n\u001b[0;32m     62\u001b[0m     Int8Dtype,\n\u001b[0;32m     63\u001b[0m     Int16Dtype,\n\u001b[0;32m     64\u001b[0m     Int32Dtype,\n\u001b[0;32m     65\u001b[0m     Int64Dtype,\n\u001b[0;32m     66\u001b[0m     UInt8Dtype,\n\u001b[0;32m     67\u001b[0m     UInt16Dtype,\n\u001b[0;32m     68\u001b[0m     UInt32Dtype,\n\u001b[0;32m     69\u001b[0m     UInt64Dtype,\n\u001b[0;32m     70\u001b[0m     Float32Dtype,\n\u001b[0;32m     71\u001b[0m     Float64Dtype,\n\u001b[0;32m     72\u001b[0m     CategoricalDtype,\n\u001b[0;32m     73\u001b[0m     PeriodDtype,\n\u001b[0;32m     74\u001b[0m     IntervalDtype,\n\u001b[0;32m     75\u001b[0m     DatetimeTZDtype,\n\u001b[0;32m     76\u001b[0m     StringDtype,\n\u001b[0;32m     77\u001b[0m     BooleanDtype,\n\u001b[0;32m     78\u001b[0m     \u001b[38;5;66;03m# missing\u001b[39;00m\n\u001b[0;32m     79\u001b[0m     NA,\n\u001b[0;32m     80\u001b[0m     isna,\n\u001b[0;32m     81\u001b[0m     isnull,\n\u001b[0;32m     82\u001b[0m     notna,\n\u001b[0;32m     83\u001b[0m     notnull,\n\u001b[0;32m     84\u001b[0m     \u001b[38;5;66;03m# indexes\u001b[39;00m\n\u001b[0;32m     85\u001b[0m     Index,\n\u001b[0;32m     86\u001b[0m     CategoricalIndex,\n\u001b[0;32m     87\u001b[0m     RangeIndex,\n\u001b[0;32m     88\u001b[0m     MultiIndex,\n\u001b[0;32m     89\u001b[0m     IntervalIndex,\n\u001b[0;32m     90\u001b[0m     TimedeltaIndex,\n\u001b[0;32m     91\u001b[0m     DatetimeIndex,\n\u001b[0;32m     92\u001b[0m     PeriodIndex,\n\u001b[0;32m     93\u001b[0m     IndexSlice,\n\u001b[0;32m     94\u001b[0m     \u001b[38;5;66;03m# tseries\u001b[39;00m\n\u001b[0;32m     95\u001b[0m     NaT,\n\u001b[0;32m     96\u001b[0m     Period,\n\u001b[0;32m     97\u001b[0m     period_range,\n\u001b[0;32m     98\u001b[0m     Timedelta,\n\u001b[0;32m     99\u001b[0m     timedelta_range,\n\u001b[0;32m    100\u001b[0m     Timestamp,\n\u001b[0;32m    101\u001b[0m     date_range,\n\u001b[0;32m    102\u001b[0m     bdate_range,\n\u001b[0;32m    103\u001b[0m     Interval,\n\u001b[0;32m    104\u001b[0m     interval_range,\n\u001b[0;32m    105\u001b[0m     DateOffset,\n\u001b[0;32m    106\u001b[0m     \u001b[38;5;66;03m# conversion\u001b[39;00m\n\u001b[0;32m    107\u001b[0m     to_numeric,\n\u001b[0;32m    108\u001b[0m     to_datetime,\n\u001b[0;32m    109\u001b[0m     to_timedelta,\n\u001b[0;32m    110\u001b[0m     \u001b[38;5;66;03m# misc\u001b[39;00m\n\u001b[0;32m    111\u001b[0m     Flags,\n\u001b[0;32m    112\u001b[0m     Grouper,\n\u001b[0;32m    113\u001b[0m     factorize,\n\u001b[0;32m    114\u001b[0m     unique,\n\u001b[0;32m    115\u001b[0m     value_counts,\n\u001b[0;32m    116\u001b[0m     NamedAgg,\n\u001b[0;32m    117\u001b[0m     array,\n\u001b[0;32m    118\u001b[0m     Categorical,\n\u001b[0;32m    119\u001b[0m     set_eng_float_format,\n\u001b[0;32m    120\u001b[0m     Series,\n\u001b[0;32m    121\u001b[0m     DataFrame,\n\u001b[0;32m    122\u001b[0m )\n\u001b[0;32m    124\u001b[0m \u001b[38;5;28;01mfrom\u001b[39;00m \u001b[38;5;21;01mpandas\u001b[39;00m\u001b[38;5;21;01m.\u001b[39;00m\u001b[38;5;21;01mcore\u001b[39;00m\u001b[38;5;21;01m.\u001b[39;00m\u001b[38;5;21;01mdtypes\u001b[39;00m\u001b[38;5;21;01m.\u001b[39;00m\u001b[38;5;21;01mdtypes\u001b[39;00m \u001b[38;5;28;01mimport\u001b[39;00m SparseDtype\n\u001b[0;32m    126\u001b[0m \u001b[38;5;28;01mfrom\u001b[39;00m \u001b[38;5;21;01mpandas\u001b[39;00m\u001b[38;5;21;01m.\u001b[39;00m\u001b[38;5;21;01mtseries\u001b[39;00m\u001b[38;5;21;01m.\u001b[39;00m\u001b[38;5;21;01mapi\u001b[39;00m \u001b[38;5;28;01mimport\u001b[39;00m infer_freq\n",
      "File \u001b[1;32m~\\AppData\\Local\\Programs\\Python\\Python312\\Lib\\site-packages\\pandas\\core\\api.py:1\u001b[0m\n\u001b[1;32m----> 1\u001b[0m \u001b[38;5;28;01mfrom\u001b[39;00m \u001b[38;5;21;01mpandas\u001b[39;00m\u001b[38;5;21;01m.\u001b[39;00m\u001b[38;5;21;01m_libs\u001b[39;00m \u001b[38;5;28;01mimport\u001b[39;00m (\n\u001b[0;32m      2\u001b[0m     NaT,\n\u001b[0;32m      3\u001b[0m     Period,\n\u001b[0;32m      4\u001b[0m     Timedelta,\n\u001b[0;32m      5\u001b[0m     Timestamp,\n\u001b[0;32m      6\u001b[0m )\n\u001b[0;32m      7\u001b[0m \u001b[38;5;28;01mfrom\u001b[39;00m \u001b[38;5;21;01mpandas\u001b[39;00m\u001b[38;5;21;01m.\u001b[39;00m\u001b[38;5;21;01m_libs\u001b[39;00m\u001b[38;5;21;01m.\u001b[39;00m\u001b[38;5;21;01mmissing\u001b[39;00m \u001b[38;5;28;01mimport\u001b[39;00m NA\n\u001b[0;32m      9\u001b[0m \u001b[38;5;28;01mfrom\u001b[39;00m \u001b[38;5;21;01mpandas\u001b[39;00m\u001b[38;5;21;01m.\u001b[39;00m\u001b[38;5;21;01mcore\u001b[39;00m\u001b[38;5;21;01m.\u001b[39;00m\u001b[38;5;21;01mdtypes\u001b[39;00m\u001b[38;5;21;01m.\u001b[39;00m\u001b[38;5;21;01mdtypes\u001b[39;00m \u001b[38;5;28;01mimport\u001b[39;00m (\n\u001b[0;32m     10\u001b[0m     ArrowDtype,\n\u001b[0;32m     11\u001b[0m     CategoricalDtype,\n\u001b[1;32m   (...)\u001b[0m\n\u001b[0;32m     14\u001b[0m     PeriodDtype,\n\u001b[0;32m     15\u001b[0m )\n",
      "File \u001b[1;32m~\\AppData\\Local\\Programs\\Python\\Python312\\Lib\\site-packages\\pandas\\_libs\\__init__.py:18\u001b[0m\n\u001b[0;32m     16\u001b[0m \u001b[38;5;28;01mimport\u001b[39;00m \u001b[38;5;21;01mpandas\u001b[39;00m\u001b[38;5;21;01m.\u001b[39;00m\u001b[38;5;21;01m_libs\u001b[39;00m\u001b[38;5;21;01m.\u001b[39;00m\u001b[38;5;21;01mpandas_parser\u001b[39;00m  \u001b[38;5;66;03m# noqa: E501 # isort: skip # type: ignore[reportUnusedImport]\u001b[39;00m\n\u001b[0;32m     17\u001b[0m \u001b[38;5;28;01mimport\u001b[39;00m \u001b[38;5;21;01mpandas\u001b[39;00m\u001b[38;5;21;01m.\u001b[39;00m\u001b[38;5;21;01m_libs\u001b[39;00m\u001b[38;5;21;01m.\u001b[39;00m\u001b[38;5;21;01mpandas_datetime\u001b[39;00m  \u001b[38;5;66;03m# noqa: F401,E501 # isort: skip # type: ignore[reportUnusedImport]\u001b[39;00m\n\u001b[1;32m---> 18\u001b[0m \u001b[38;5;28;01mfrom\u001b[39;00m \u001b[38;5;21;01mpandas\u001b[39;00m\u001b[38;5;21;01m.\u001b[39;00m\u001b[38;5;21;01m_libs\u001b[39;00m\u001b[38;5;21;01m.\u001b[39;00m\u001b[38;5;21;01minterval\u001b[39;00m \u001b[38;5;28;01mimport\u001b[39;00m Interval\n\u001b[0;32m     19\u001b[0m \u001b[38;5;28;01mfrom\u001b[39;00m \u001b[38;5;21;01mpandas\u001b[39;00m\u001b[38;5;21;01m.\u001b[39;00m\u001b[38;5;21;01m_libs\u001b[39;00m\u001b[38;5;21;01m.\u001b[39;00m\u001b[38;5;21;01mtslibs\u001b[39;00m \u001b[38;5;28;01mimport\u001b[39;00m (\n\u001b[0;32m     20\u001b[0m     NaT,\n\u001b[0;32m     21\u001b[0m     NaTType,\n\u001b[1;32m   (...)\u001b[0m\n\u001b[0;32m     26\u001b[0m     iNaT,\n\u001b[0;32m     27\u001b[0m )\n",
      "File \u001b[1;32minterval.pyx:1\u001b[0m, in \u001b[0;36minit pandas._libs.interval\u001b[1;34m()\u001b[0m\n",
      "\u001b[1;31mValueError\u001b[0m: numpy.dtype size changed, may indicate binary incompatibility. Expected 96 from C header, got 88 from PyObject"
     ]
    }
   ],
   "source": [
    "import pandas as pd"
   ]
  },
  {
   "cell_type": "code",
   "execution_count": null,
   "id": "1b2f7b8e-589f-4bb2-b0f6-314ce7ae36cc",
   "metadata": {},
   "outputs": [],
   "source": []
  },
  {
   "cell_type": "code",
   "execution_count": null,
   "id": "3286b250-93ff-40bf-88cf-02aa6960dfa5",
   "metadata": {},
   "outputs": [],
   "source": []
  },
  {
   "cell_type": "code",
   "execution_count": null,
   "id": "4ce90e7d-9125-4ab2-82fa-86d154537e16",
   "metadata": {},
   "outputs": [],
   "source": []
  },
  {
   "cell_type": "code",
   "execution_count": null,
   "id": "a0e878fe-282e-4c28-bbca-eb9045b4f501",
   "metadata": {},
   "outputs": [],
   "source": []
  },
  {
   "cell_type": "code",
   "execution_count": null,
   "id": "c656f54a-7b67-49fb-b2a6-737c895dbfba",
   "metadata": {},
   "outputs": [],
   "source": []
  },
  {
   "cell_type": "code",
   "execution_count": null,
   "id": "17974c5a-0fcc-4fa3-8bdb-4446b5044c2e",
   "metadata": {},
   "outputs": [],
   "source": []
  },
  {
   "cell_type": "code",
   "execution_count": 7,
   "id": "D82VITLEVqNr",
   "metadata": {
    "id": "D82VITLEVqNr"
   },
   "outputs": [
    {
     "ename": "ValueError",
     "evalue": "numpy.dtype size changed, may indicate binary incompatibility. Expected 96 from C header, got 88 from PyObject",
     "output_type": "error",
     "traceback": [
      "\u001b[1;31m---------------------------------------------------------------------------\u001b[0m",
      "\u001b[1;31mValueError\u001b[0m                                Traceback (most recent call last)",
      "Cell \u001b[1;32mIn[7], line 1\u001b[0m\n\u001b[1;32m----> 1\u001b[0m \u001b[38;5;28;01mimport\u001b[39;00m \u001b[38;5;21;01mpandas\u001b[39;00m \u001b[38;5;28;01mas\u001b[39;00m \u001b[38;5;21;01mpd\u001b[39;00m\n\u001b[0;32m      2\u001b[0m \u001b[38;5;28;01mimport\u001b[39;00m \u001b[38;5;21;01mnumpy\u001b[39;00m \u001b[38;5;28;01mas\u001b[39;00m \u001b[38;5;21;01mnp\u001b[39;00m\n\u001b[0;32m      3\u001b[0m \u001b[38;5;28;01mimport\u001b[39;00m \u001b[38;5;21;01mmatplotlib\u001b[39;00m\u001b[38;5;21;01m.\u001b[39;00m\u001b[38;5;21;01mpyplot\u001b[39;00m \u001b[38;5;28;01mas\u001b[39;00m \u001b[38;5;21;01mplt\u001b[39;00m\n",
      "File \u001b[1;32m~\\AppData\\Local\\Programs\\Python\\Python312\\Lib\\site-packages\\pandas\\__init__.py:59\u001b[0m\n\u001b[0;32m     56\u001b[0m \u001b[38;5;66;03m# let init-time option registration happen\u001b[39;00m\n\u001b[0;32m     57\u001b[0m \u001b[38;5;28;01mimport\u001b[39;00m \u001b[38;5;21;01mpandas\u001b[39;00m\u001b[38;5;21;01m.\u001b[39;00m\u001b[38;5;21;01mcore\u001b[39;00m\u001b[38;5;21;01m.\u001b[39;00m\u001b[38;5;21;01mconfig_init\u001b[39;00m  \u001b[38;5;66;03m# pyright: ignore[reportUnusedImport] # noqa: F401\u001b[39;00m\n\u001b[1;32m---> 59\u001b[0m \u001b[38;5;28;01mfrom\u001b[39;00m \u001b[38;5;21;01mpandas\u001b[39;00m\u001b[38;5;21;01m.\u001b[39;00m\u001b[38;5;21;01mcore\u001b[39;00m\u001b[38;5;21;01m.\u001b[39;00m\u001b[38;5;21;01mapi\u001b[39;00m \u001b[38;5;28;01mimport\u001b[39;00m (\n\u001b[0;32m     60\u001b[0m     \u001b[38;5;66;03m# dtype\u001b[39;00m\n\u001b[0;32m     61\u001b[0m     ArrowDtype,\n\u001b[0;32m     62\u001b[0m     Int8Dtype,\n\u001b[0;32m     63\u001b[0m     Int16Dtype,\n\u001b[0;32m     64\u001b[0m     Int32Dtype,\n\u001b[0;32m     65\u001b[0m     Int64Dtype,\n\u001b[0;32m     66\u001b[0m     UInt8Dtype,\n\u001b[0;32m     67\u001b[0m     UInt16Dtype,\n\u001b[0;32m     68\u001b[0m     UInt32Dtype,\n\u001b[0;32m     69\u001b[0m     UInt64Dtype,\n\u001b[0;32m     70\u001b[0m     Float32Dtype,\n\u001b[0;32m     71\u001b[0m     Float64Dtype,\n\u001b[0;32m     72\u001b[0m     CategoricalDtype,\n\u001b[0;32m     73\u001b[0m     PeriodDtype,\n\u001b[0;32m     74\u001b[0m     IntervalDtype,\n\u001b[0;32m     75\u001b[0m     DatetimeTZDtype,\n\u001b[0;32m     76\u001b[0m     StringDtype,\n\u001b[0;32m     77\u001b[0m     BooleanDtype,\n\u001b[0;32m     78\u001b[0m     \u001b[38;5;66;03m# missing\u001b[39;00m\n\u001b[0;32m     79\u001b[0m     NA,\n\u001b[0;32m     80\u001b[0m     isna,\n\u001b[0;32m     81\u001b[0m     isnull,\n\u001b[0;32m     82\u001b[0m     notna,\n\u001b[0;32m     83\u001b[0m     notnull,\n\u001b[0;32m     84\u001b[0m     \u001b[38;5;66;03m# indexes\u001b[39;00m\n\u001b[0;32m     85\u001b[0m     Index,\n\u001b[0;32m     86\u001b[0m     CategoricalIndex,\n\u001b[0;32m     87\u001b[0m     RangeIndex,\n\u001b[0;32m     88\u001b[0m     MultiIndex,\n\u001b[0;32m     89\u001b[0m     IntervalIndex,\n\u001b[0;32m     90\u001b[0m     TimedeltaIndex,\n\u001b[0;32m     91\u001b[0m     DatetimeIndex,\n\u001b[0;32m     92\u001b[0m     PeriodIndex,\n\u001b[0;32m     93\u001b[0m     IndexSlice,\n\u001b[0;32m     94\u001b[0m     \u001b[38;5;66;03m# tseries\u001b[39;00m\n\u001b[0;32m     95\u001b[0m     NaT,\n\u001b[0;32m     96\u001b[0m     Period,\n\u001b[0;32m     97\u001b[0m     period_range,\n\u001b[0;32m     98\u001b[0m     Timedelta,\n\u001b[0;32m     99\u001b[0m     timedelta_range,\n\u001b[0;32m    100\u001b[0m     Timestamp,\n\u001b[0;32m    101\u001b[0m     date_range,\n\u001b[0;32m    102\u001b[0m     bdate_range,\n\u001b[0;32m    103\u001b[0m     Interval,\n\u001b[0;32m    104\u001b[0m     interval_range,\n\u001b[0;32m    105\u001b[0m     DateOffset,\n\u001b[0;32m    106\u001b[0m     \u001b[38;5;66;03m# conversion\u001b[39;00m\n\u001b[0;32m    107\u001b[0m     to_numeric,\n\u001b[0;32m    108\u001b[0m     to_datetime,\n\u001b[0;32m    109\u001b[0m     to_timedelta,\n\u001b[0;32m    110\u001b[0m     \u001b[38;5;66;03m# misc\u001b[39;00m\n\u001b[0;32m    111\u001b[0m     Flags,\n\u001b[0;32m    112\u001b[0m     Grouper,\n\u001b[0;32m    113\u001b[0m     factorize,\n\u001b[0;32m    114\u001b[0m     unique,\n\u001b[0;32m    115\u001b[0m     value_counts,\n\u001b[0;32m    116\u001b[0m     NamedAgg,\n\u001b[0;32m    117\u001b[0m     array,\n\u001b[0;32m    118\u001b[0m     Categorical,\n\u001b[0;32m    119\u001b[0m     set_eng_float_format,\n\u001b[0;32m    120\u001b[0m     Series,\n\u001b[0;32m    121\u001b[0m     DataFrame,\n\u001b[0;32m    122\u001b[0m )\n\u001b[0;32m    124\u001b[0m \u001b[38;5;28;01mfrom\u001b[39;00m \u001b[38;5;21;01mpandas\u001b[39;00m\u001b[38;5;21;01m.\u001b[39;00m\u001b[38;5;21;01mcore\u001b[39;00m\u001b[38;5;21;01m.\u001b[39;00m\u001b[38;5;21;01mdtypes\u001b[39;00m\u001b[38;5;21;01m.\u001b[39;00m\u001b[38;5;21;01mdtypes\u001b[39;00m \u001b[38;5;28;01mimport\u001b[39;00m SparseDtype\n\u001b[0;32m    126\u001b[0m \u001b[38;5;28;01mfrom\u001b[39;00m \u001b[38;5;21;01mpandas\u001b[39;00m\u001b[38;5;21;01m.\u001b[39;00m\u001b[38;5;21;01mtseries\u001b[39;00m\u001b[38;5;21;01m.\u001b[39;00m\u001b[38;5;21;01mapi\u001b[39;00m \u001b[38;5;28;01mimport\u001b[39;00m infer_freq\n",
      "File \u001b[1;32m~\\AppData\\Local\\Programs\\Python\\Python312\\Lib\\site-packages\\pandas\\core\\api.py:1\u001b[0m\n\u001b[1;32m----> 1\u001b[0m \u001b[38;5;28;01mfrom\u001b[39;00m \u001b[38;5;21;01mpandas\u001b[39;00m\u001b[38;5;21;01m.\u001b[39;00m\u001b[38;5;21;01m_libs\u001b[39;00m \u001b[38;5;28;01mimport\u001b[39;00m (\n\u001b[0;32m      2\u001b[0m     NaT,\n\u001b[0;32m      3\u001b[0m     Period,\n\u001b[0;32m      4\u001b[0m     Timedelta,\n\u001b[0;32m      5\u001b[0m     Timestamp,\n\u001b[0;32m      6\u001b[0m )\n\u001b[0;32m      7\u001b[0m \u001b[38;5;28;01mfrom\u001b[39;00m \u001b[38;5;21;01mpandas\u001b[39;00m\u001b[38;5;21;01m.\u001b[39;00m\u001b[38;5;21;01m_libs\u001b[39;00m\u001b[38;5;21;01m.\u001b[39;00m\u001b[38;5;21;01mmissing\u001b[39;00m \u001b[38;5;28;01mimport\u001b[39;00m NA\n\u001b[0;32m      9\u001b[0m \u001b[38;5;28;01mfrom\u001b[39;00m \u001b[38;5;21;01mpandas\u001b[39;00m\u001b[38;5;21;01m.\u001b[39;00m\u001b[38;5;21;01mcore\u001b[39;00m\u001b[38;5;21;01m.\u001b[39;00m\u001b[38;5;21;01mdtypes\u001b[39;00m\u001b[38;5;21;01m.\u001b[39;00m\u001b[38;5;21;01mdtypes\u001b[39;00m \u001b[38;5;28;01mimport\u001b[39;00m (\n\u001b[0;32m     10\u001b[0m     ArrowDtype,\n\u001b[0;32m     11\u001b[0m     CategoricalDtype,\n\u001b[1;32m   (...)\u001b[0m\n\u001b[0;32m     14\u001b[0m     PeriodDtype,\n\u001b[0;32m     15\u001b[0m )\n",
      "File \u001b[1;32m~\\AppData\\Local\\Programs\\Python\\Python312\\Lib\\site-packages\\pandas\\_libs\\__init__.py:18\u001b[0m\n\u001b[0;32m     16\u001b[0m \u001b[38;5;28;01mimport\u001b[39;00m \u001b[38;5;21;01mpandas\u001b[39;00m\u001b[38;5;21;01m.\u001b[39;00m\u001b[38;5;21;01m_libs\u001b[39;00m\u001b[38;5;21;01m.\u001b[39;00m\u001b[38;5;21;01mpandas_parser\u001b[39;00m  \u001b[38;5;66;03m# noqa: E501 # isort: skip # type: ignore[reportUnusedImport]\u001b[39;00m\n\u001b[0;32m     17\u001b[0m \u001b[38;5;28;01mimport\u001b[39;00m \u001b[38;5;21;01mpandas\u001b[39;00m\u001b[38;5;21;01m.\u001b[39;00m\u001b[38;5;21;01m_libs\u001b[39;00m\u001b[38;5;21;01m.\u001b[39;00m\u001b[38;5;21;01mpandas_datetime\u001b[39;00m  \u001b[38;5;66;03m# noqa: F401,E501 # isort: skip # type: ignore[reportUnusedImport]\u001b[39;00m\n\u001b[1;32m---> 18\u001b[0m \u001b[38;5;28;01mfrom\u001b[39;00m \u001b[38;5;21;01mpandas\u001b[39;00m\u001b[38;5;21;01m.\u001b[39;00m\u001b[38;5;21;01m_libs\u001b[39;00m\u001b[38;5;21;01m.\u001b[39;00m\u001b[38;5;21;01minterval\u001b[39;00m \u001b[38;5;28;01mimport\u001b[39;00m Interval\n\u001b[0;32m     19\u001b[0m \u001b[38;5;28;01mfrom\u001b[39;00m \u001b[38;5;21;01mpandas\u001b[39;00m\u001b[38;5;21;01m.\u001b[39;00m\u001b[38;5;21;01m_libs\u001b[39;00m\u001b[38;5;21;01m.\u001b[39;00m\u001b[38;5;21;01mtslibs\u001b[39;00m \u001b[38;5;28;01mimport\u001b[39;00m (\n\u001b[0;32m     20\u001b[0m     NaT,\n\u001b[0;32m     21\u001b[0m     NaTType,\n\u001b[1;32m   (...)\u001b[0m\n\u001b[0;32m     26\u001b[0m     iNaT,\n\u001b[0;32m     27\u001b[0m )\n",
      "File \u001b[1;32minterval.pyx:1\u001b[0m, in \u001b[0;36minit pandas._libs.interval\u001b[1;34m()\u001b[0m\n",
      "\u001b[1;31mValueError\u001b[0m: numpy.dtype size changed, may indicate binary incompatibility. Expected 96 from C header, got 88 from PyObject"
     ]
    }
   ],
   "source": [
    "import pandas as pd\n",
    "import numpy as np\n",
    "import matplotlib.pyplot as plt\n",
    "import seaborn as sns\n",
    "from wordcloud import WordCloud\n",
    "import joblib as jb\n",
    "%matplotlib inline"
   ]
  },
  {
   "cell_type": "code",
   "execution_count": null,
   "id": "tFTdy-hbWHHs",
   "metadata": {
    "colab": {
     "base_uri": "https://localhost:8080/",
     "height": 206
    },
    "id": "tFTdy-hbWHHs",
    "outputId": "e915321b-1d2e-45e5-ea48-693fd59bbcf9"
   },
   "outputs": [],
   "source": [
    "df = pd.read_csv(\"Downloads/flipkart/Dataset-SA.csv\")\n",
    "df.head()"
   ]
  },
  {
   "cell_type": "markdown",
   "id": "NOanopFiZQ8v",
   "metadata": {
    "id": "NOanopFiZQ8v"
   },
   "source": [
    "# EDA"
   ]
  },
  {
   "cell_type": "code",
   "execution_count": null,
   "id": "4gHhDQKZWc0T",
   "metadata": {
    "colab": {
     "base_uri": "https://localhost:8080/"
    },
    "id": "4gHhDQKZWc0T",
    "outputId": "96f5924e-3954-4053-aa6a-b829641e6869"
   },
   "outputs": [],
   "source": [
    "df.info()"
   ]
  },
  {
   "cell_type": "markdown",
   "id": "RaENkpoQWzJ4",
   "metadata": {
    "id": "RaENkpoQWzJ4"
   },
   "source": [
    "# Relative to the above df.info():\n",
    "* The data contains around 8518 observations or instances and total of 8 features.\n",
    "* There is only one feature or column with no missing data and that's Ratings feature.\n",
    "* column with most missing values is the month."
   ]
  },
  {
   "cell_type": "code",
   "execution_count": null,
   "id": "ur1iLPFOWuga",
   "metadata": {
    "colab": {
     "base_uri": "https://localhost:8080/"
    },
    "id": "ur1iLPFOWuga",
    "outputId": "fb7f6110-d650-4162-ec8c-528534c7de71"
   },
   "outputs": [],
   "source": [
    "(df.isnull().sum() / df.shape[0]) * 100"
   ]
  },
  {
   "cell_type": "markdown",
   "id": "CpM38_4kbRa3",
   "metadata": {
    "id": "CpM38_4kbRa3"
   },
   "source": [
    "## Filling missing categorical values."
   ]
  },
  {
   "cell_type": "code",
   "execution_count": null,
   "id": "8XTFhcDyYYn_",
   "metadata": {
    "id": "8XTFhcDyYYn_"
   },
   "outputs": [],
   "source": [
    "# df[\"Reviewer Name\"].fillna(df[\"Reviewer Name\"].mode()[0], inplace = True)\n",
    "# df[\"Review Title\"].fillna(df[\"Review Title\"].mode()[0], inplace = True)\n",
    "# df[\"Place of Review\"].fillna(df[\"Place of Review\"].mode()[0], inplace = True)\n",
    "# df[\"Review text\"].fillna(\"Not Available\", inplace = True)"
   ]
  },
  {
   "cell_type": "markdown",
   "id": "QMDL9_Iibbym",
   "metadata": {
    "id": "QMDL9_Iibbym"
   },
   "source": [
    "## Filling missing numerical values."
   ]
  },
  {
   "cell_type": "code",
   "execution_count": null,
   "id": "mV5UFT0vaLvY",
   "metadata": {
    "id": "mV5UFT0vaLvY"
   },
   "outputs": [],
   "source": [
    "# df[\"Up Votes\"].fillna(df[\"Up Votes\"].median(), inplace = True)\n",
    "# df[\"Down Votes\"].fillna(df[\"Down Votes\"].median(), inplace = True)"
   ]
  },
  {
   "cell_type": "markdown",
   "id": "ucIMBglJb3S4",
   "metadata": {
    "id": "ucIMBglJb3S4"
   },
   "source": [
    "## Filling Time series data."
   ]
  },
  {
   "cell_type": "code",
   "execution_count": null,
   "id": "RL7L6oAobpER",
   "metadata": {
    "id": "RL7L6oAobpER"
   },
   "outputs": [],
   "source": [
    "# df[\"Month\"].fillna(method = \"ffill\", inplace = True)"
   ]
  },
  {
   "cell_type": "code",
   "execution_count": null,
   "id": "JIS6HdOwGwr0",
   "metadata": {
    "id": "JIS6HdOwGwr0"
   },
   "outputs": [],
   "source": [
    "df.dropna(axis = 0, inplace = True)"
   ]
  },
  {
   "cell_type": "code",
   "execution_count": null,
   "id": "p7Fa5YzqcMMF",
   "metadata": {
    "colab": {
     "base_uri": "https://localhost:8080/"
    },
    "id": "p7Fa5YzqcMMF",
    "outputId": "41805f4f-ae86-49bc-c73f-eb62ecf6825b"
   },
   "outputs": [],
   "source": [
    "(df.isnull().sum() / df.shape[0]) * 100"
   ]
  },
  {
   "cell_type": "markdown",
   "id": "or9Tt5umcwf7",
   "metadata": {
    "id": "or9Tt5umcwf7"
   },
   "source": [
    "## Dealing with the Ratings.\n",
    "* Ratings range 1-5.\n",
    "* So to categorize them into two: positive or negative. Then we should remove those that can indicate neutrality. like 3."
   ]
  },
  {
   "cell_type": "code",
   "execution_count": null,
   "id": "99BfeTcqcZ9_",
   "metadata": {
    "colab": {
     "base_uri": "https://localhost:8080/"
    },
    "id": "99BfeTcqcZ9_",
    "outputId": "c25d0a85-8798-40f8-aff8-df4ee8264823"
   },
   "outputs": [],
   "source": [
    "df[\"Ratings\"].unique()"
   ]
  },
  {
   "cell_type": "code",
   "execution_count": null,
   "id": "DXZvtsBUcpPw",
   "metadata": {
    "id": "DXZvtsBUcpPw"
   },
   "outputs": [],
   "source": [
    "used_ratings = {\n",
    "    1:\"Negative\",\n",
    "    2:\"Negative\",\n",
    "    4:\"Positive\",\n",
    "    5:\"Positive\"\n",
    "}\n",
    "df = df[df[\"Ratings\"] != 3]\n",
    "df[\"Label\"] = df[df[\"Ratings\"] != 3][\"Ratings\"].map(used_ratings)"
   ]
  },
  {
   "cell_type": "code",
   "execution_count": null,
   "id": "yrnR3WnBeNKX",
   "metadata": {
    "colab": {
     "base_uri": "https://localhost:8080/",
     "height": 310
    },
    "id": "yrnR3WnBeNKX",
    "outputId": "3ee1c4e1-2258-42a4-b282-ddb89f05e908"
   },
   "outputs": [],
   "source": [
    "df.head()"
   ]
  },
  {
   "cell_type": "code",
   "execution_count": null,
   "id": "SHzaf7_-frUE",
   "metadata": {
    "id": "SHzaf7_-frUE"
   },
   "outputs": [],
   "source": [
    "df = df[[\"Review text\", \"Label\"]]"
   ]
  },
  {
   "cell_type": "code",
   "execution_count": null,
   "id": "24Lp3PdsiA3a",
   "metadata": {
    "colab": {
     "base_uri": "https://localhost:8080/",
     "height": 424
    },
    "id": "24Lp3PdsiA3a",
    "outputId": "37a75f1e-a9b9-4aca-ab24-5a907eca1e26"
   },
   "outputs": [],
   "source": [
    "df"
   ]
  },
  {
   "cell_type": "markdown",
   "id": "JvS9d1MNie4Q",
   "metadata": {
    "id": "JvS9d1MNie4Q"
   },
   "source": [
    "## As we can see the below command:\n",
    "* Each **Review text** has some extention or like some text in it which reads as **READ MORE**\n",
    "* i.e: Good quality product. Delivered on time.READ MORE\n",
    "* So, better to remove the text from our text.\n"
   ]
  },
  {
   "cell_type": "code",
   "execution_count": null,
   "id": "paq7M2x7iL34",
   "metadata": {
    "colab": {
     "base_uri": "https://localhost:8080/",
     "height": 35
    },
    "id": "paq7M2x7iL34",
    "outputId": "a4404569-15e7-4e51-d0f6-705c470a6ec7"
   },
   "outputs": [],
   "source": [
    "df[\"Review text\"][5]"
   ]
  },
  {
   "cell_type": "code",
   "execution_count": null,
   "id": "b__2RThoiS_C",
   "metadata": {
    "id": "b__2RThoiS_C"
   },
   "outputs": [],
   "source": [
    "df[\"Review text\"] = df[df[\"Review text\"].str.contains(\"READ MORE\")][\"Review text\"].str.replace(\"READ MORE\", \"\")"
   ]
  },
  {
   "cell_type": "code",
   "execution_count": null,
   "id": "j3sBZDWfj9Aq",
   "metadata": {
    "colab": {
     "base_uri": "https://localhost:8080/",
     "height": 35
    },
    "id": "j3sBZDWfj9Aq",
    "outputId": "649aae60-9ad2-49d1-d91c-ae193d0117b3"
   },
   "outputs": [],
   "source": [
    "df[\"Review text\"][5]"
   ]
  },
  {
   "cell_type": "markdown",
   "id": "hX9CgPWaL3Xp",
   "metadata": {
    "id": "hX9CgPWaL3Xp"
   },
   "source": [
    "# Visualization on the target features."
   ]
  },
  {
   "cell_type": "code",
   "execution_count": null,
   "id": "ldkn7OvWJOSB",
   "metadata": {
    "colab": {
     "base_uri": "https://localhost:8080/",
     "height": 487
    },
    "id": "ldkn7OvWJOSB",
    "outputId": "0cab890b-bb36-490c-98e5-429033cdb0e2"
   },
   "outputs": [],
   "source": [
    "import matplotlib.pyplot as plt\n",
    "import seaborn as sns\n",
    "\n",
    "fig, ax = plt.subplots(figsize=(12, 5))\n",
    "total = len(df)  # Total number of samples\n",
    "\n",
    "# Create the countplot\n",
    "sns.countplot(data=df, x=\"Label\", hue = \"Label\", label=\"Positive\")\n",
    "\n",
    "# Add percentages to each bar\n",
    "for p in ax.patches:\n",
    "    height = p.get_height()\n",
    "    ax.text(p.get_x() + p.get_width() / 2., height + 0.5, f'{height / total:.2%}', ha=\"center\")\n",
    "\n",
    "plt.xlabel(\"Labels\")\n",
    "plt.ylabel(\"Counts\")\n",
    "plt.title(\"Plotting the proportions of the labels or the target.\")\n",
    "plt.legend()\n",
    "plt.show()"
   ]
  },
  {
   "cell_type": "markdown",
   "id": "cEpuj87YgWgR",
   "metadata": {
    "id": "cEpuj87YgWgR"
   },
   "source": [
    "# Creating the WordCloud"
   ]
  },
  {
   "cell_type": "code",
   "execution_count": null,
   "id": "dPh1tai8gVi7",
   "metadata": {
    "id": "dPh1tai8gVi7"
   },
   "outputs": [],
   "source": [
    "from wordcloud import WordCloud"
   ]
  },
  {
   "cell_type": "code",
   "execution_count": null,
   "id": "e_RdTdPVgVfz",
   "metadata": {
    "id": "e_RdTdPVgVfz"
   },
   "outputs": [],
   "source": [
    "word_list = ['Amazing', 'Terrific', 'Phenomenal', 'Perfect', 'Awesome', 'Superb', 'Best', 'Excellent', 'Like', 'Outstanding', 'Love', 'Top-notch', 'Splendid', 'Impressive', 'Remarkable', 'Wonderful', 'Great', 'Fabulous', 'Exceptional', 'Fantastic']"
   ]
  },
  {
   "cell_type": "code",
   "execution_count": null,
   "id": "oGUV5ucTgVYE",
   "metadata": {
    "colab": {
     "base_uri": "https://localhost:8080/",
     "height": 653
    },
    "id": "oGUV5ucTgVYE",
    "outputId": "5a8c052b-5e25-4571-8dce-6cb6e087de31"
   },
   "outputs": [],
   "source": [
    "df_positive = df[df[\"Label\"] == \"Positive\"]\n",
    "\n",
    "words = \" \".join(df_positive[\"Review text\"]).lower()\n",
    "\n",
    "clean_words = \" \".join([word for word in words.split() if word not in word_list])\n",
    "\n",
    "positive_wordcloud = WordCloud(stopwords=stopwords.words(\"english\"),\n",
    "                      background_color='black',\n",
    "                      width=1600,\n",
    "                      height=800\n",
    "                     ).generate(clean_words)\n",
    "plt.figure(1,figsize=(30,20))\n",
    "plt.imshow(positive_wordcloud)\n",
    "plt.axis('off')\n",
    "plt.show()"
   ]
  },
  {
   "cell_type": "code",
   "execution_count": null,
   "id": "ZiFGU4GqpB_0",
   "metadata": {
    "colab": {
     "base_uri": "https://localhost:8080/",
     "height": 653
    },
    "id": "ZiFGU4GqpB_0",
    "outputId": "a210e4cd-2297-46d0-ef4a-8dcba454030b"
   },
   "outputs": [],
   "source": [
    "df_negative = df[df[\"Label\"] == \"Negative\"]\n",
    "\n",
    "words = \" \".join(df_negative[\"Review text\"]).lower()\n",
    "\n",
    "clean_words = \" \".join([word for word in words.split() if word not in word_list])\n",
    "positive_wordcloud = WordCloud(stopwords=stopwords.words(\"english\"),\n",
    "                      background_color='black',\n",
    "                      width=1600,\n",
    "                      height=800\n",
    "                     ).generate(clean_words)\n",
    "plt.figure(1,figsize=(30,20))\n",
    "plt.imshow(positive_wordcloud)\n",
    "plt.axis('off')\n",
    "plt.show()"
   ]
  },
  {
   "cell_type": "code",
   "execution_count": null,
   "id": "Yedhl7JopBzA",
   "metadata": {
    "id": "Yedhl7JopBzA"
   },
   "outputs": [],
   "source": []
  },
  {
   "cell_type": "markdown",
   "id": "cI_H-db3PfJd",
   "metadata": {
    "id": "cI_H-db3PfJd"
   },
   "source": [
    "# Train and Test Split"
   ]
  },
  {
   "cell_type": "code",
   "execution_count": null,
   "id": "asRbbM82Qe-A",
   "metadata": {
    "id": "asRbbM82Qe-A"
   },
   "outputs": [],
   "source": [
    "X = df[[\"Review text\"]]\n",
    "y = df[\"Label\"]"
   ]
  },
  {
   "cell_type": "code",
   "execution_count": null,
   "id": "wFu1iYmaPeJ2",
   "metadata": {
    "colab": {
     "base_uri": "https://localhost:8080/"
    },
    "id": "wFu1iYmaPeJ2",
    "outputId": "d7399165-01d2-4bae-fe44-006ef2a5ffc8"
   },
   "outputs": [],
   "source": [
    "from sklearn.model_selection import train_test_split\n",
    "\n",
    "X_train, X_test, y_train, y_test = train_test_split(X, y, test_size=0.25, random_state=0)\n",
    "\n",
    "print(X_train.shape)\n",
    "print(y_train.shape)\n",
    "print(X_test.shape)\n",
    "print(y_test.shape)"
   ]
  },
  {
   "cell_type": "markdown",
   "id": "5WdEXrgGD9fA",
   "metadata": {
    "id": "5WdEXrgGD9fA"
   },
   "source": [
    "# Text Preprocessing"
   ]
  },
  {
   "cell_type": "code",
   "execution_count": null,
   "id": "sFnBaJhBkMpB",
   "metadata": {
    "id": "sFnBaJhBkMpB"
   },
   "outputs": [],
   "source": [
    "def preprocess(raw_text, flag = None):\n",
    "  text = re.sub(\"[^a-zA-Z]\", \" \", raw_text)\n",
    "\n",
    "  text = text.lower()\n",
    "\n",
    "  words = word_tokenize(text)\n",
    "\n",
    "  if flag == \"stem\":\n",
    "    stemmer = PorterStemmer()\n",
    "    words = [stemmer.stem(word) for word in words if word not in stopwords.words(\"english\")]\n",
    "  else:\n",
    "    lemmatizer = WordNetLemmatizer()\n",
    "    words = [lemmatizer.lemmatize(word) for word in words if word not in stopwords.words(\"english\")]\n",
    "  preprocessed_text = \" \".join(words)\n",
    "  preprocessed_text_length = len(words)\n",
    "\n",
    "  return pd.Series([preprocessed_text, preprocessed_text_length])"
   ]
  },
  {
   "cell_type": "code",
   "execution_count": null,
   "id": "CxBRPEg4FXwI",
   "metadata": {
    "colab": {
     "base_uri": "https://localhost:8080/",
     "height": 424
    },
    "id": "CxBRPEg4FXwI",
    "outputId": "2bd3a18d-7f17-44c4-c025-2c954792c401"
   },
   "outputs": [],
   "source": [
    "df[[\"Review text\"]]"
   ]
  },
  {
   "cell_type": "markdown",
   "id": "LImuVqntR15k",
   "metadata": {
    "id": "LImuVqntR15k"
   },
   "source": [
    "# Cleaning Training Data"
   ]
  },
  {
   "cell_type": "code",
   "execution_count": null,
   "id": "Hf4O1vsJEStw",
   "metadata": {
    "id": "Hf4O1vsJEStw"
   },
   "outputs": [],
   "source": [
    "X_train_stem = X_train[\"Review text\"].apply(lambda x: preprocess(x, \"stem\"))"
   ]
  },
  {
   "cell_type": "code",
   "execution_count": null,
   "id": "i-3NsbYwEqA1",
   "metadata": {
    "colab": {
     "base_uri": "https://localhost:8080/",
     "height": 206
    },
    "id": "i-3NsbYwEqA1",
    "outputId": "78322d2f-6423-4812-bad6-99c44c51c634"
   },
   "outputs": [],
   "source": [
    "X_train_stem.columns = [\"clean_text_stem\", \"text_length_stem\"]\n",
    "X_train_stem.head()"
   ]
  },
  {
   "cell_type": "code",
   "execution_count": null,
   "id": "onm0LDqjHTcv",
   "metadata": {
    "colab": {
     "base_uri": "https://localhost:8080/",
     "height": 206
    },
    "id": "onm0LDqjHTcv",
    "outputId": "dad026e5-19d2-4fab-f28d-2dad30fde204"
   },
   "outputs": [],
   "source": [
    "X_train_lemmatizer = X_train[\"Review text\"].apply(lambda x: preprocess(x))\n",
    "X_train_lemmatizer.columns = [\"clean_text_lemma\", \"text_length_lemma\"]\n",
    "X_train_lemmatizer.head()"
   ]
  },
  {
   "cell_type": "code",
   "execution_count": null,
   "id": "Rnebb0OyH6rt",
   "metadata": {
    "id": "Rnebb0OyH6rt"
   },
   "outputs": [],
   "source": [
    "X_train = pd.concat([X_train, X_train_stem, X_train_lemmatizer], axis = 1)"
   ]
  },
  {
   "cell_type": "code",
   "execution_count": null,
   "id": "DKF_UA9SIS2x",
   "metadata": {
    "colab": {
     "base_uri": "https://localhost:8080/",
     "height": 241
    },
    "id": "DKF_UA9SIS2x",
    "outputId": "8892ac30-5779-46dd-e0bb-b7d62cfe4206"
   },
   "outputs": [],
   "source": [
    "X_train.head()"
   ]
  },
  {
   "cell_type": "markdown",
   "id": "dLGdPNt92j4w",
   "metadata": {
    "id": "dLGdPNt92j4w"
   },
   "source": [
    "# Cleaning test data"
   ]
  },
  {
   "cell_type": "code",
   "execution_count": null,
   "id": "KOXBB-fJ2jgh",
   "metadata": {
    "colab": {
     "base_uri": "https://localhost:8080/",
     "height": 206
    },
    "id": "KOXBB-fJ2jgh",
    "outputId": "cc7e0f0e-3c18-45a9-e207-88194d0a8eba"
   },
   "outputs": [],
   "source": [
    "X_test_stem = X_test[\"Review text\"].apply(lambda x: preprocess(x, \"stem\"))\n",
    "\n",
    "X_test_stem.columns = [\"clean_text_stem\", \"text_length_stem\"]\n",
    "\n",
    "\n",
    "X_test_lemmatizer = X_test[\"Review text\"].apply(lambda x: preprocess(x))\n",
    "X_test_lemmatizer.columns = [\"clean_text_lemma\", \"text_length_lemma\"]\n",
    "\n",
    "\n",
    "X_test = pd.concat([X_test, X_test_stem, X_test_lemmatizer], axis = 1)\n",
    "\n",
    "X_test.head()"
   ]
  },
  {
   "cell_type": "markdown",
   "id": "xc6gB2WeZxyc",
   "metadata": {
    "id": "xc6gB2WeZxyc"
   },
   "source": [
    "# Bag of Word Representation"
   ]
  },
  {
   "cell_type": "code",
   "execution_count": null,
   "id": "f5l2WLysMnch",
   "metadata": {
    "colab": {
     "base_uri": "https://localhost:8080/"
    },
    "id": "f5l2WLysMnch",
    "outputId": "38b13769-af61-4ef6-b999-1963f7aae964"
   },
   "outputs": [],
   "source": [
    "from sklearn.feature_extraction.text import CountVectorizer\n",
    "\n",
    "CV = CountVectorizer()\n",
    "\n",
    "X_train_bow = CV.fit_transform(X_train[\"clean_text_lemma\"])\n",
    "\n",
    "\n",
    "print(X_train_bow.shape)"
   ]
  },
  {
   "cell_type": "code",
   "execution_count": null,
   "id": "P5K_KdLNy0G6",
   "metadata": {
    "colab": {
     "base_uri": "https://localhost:8080/"
    },
    "id": "P5K_KdLNy0G6",
    "outputId": "786f4315-8a55-4dfd-923d-187d2a51f9da"
   },
   "outputs": [],
   "source": [
    "X_test_bow = CV.transform(X_test[\"clean_text_lemma\"])\n",
    "\n",
    "print(X_test_bow.shape)"
   ]
  },
  {
   "cell_type": "markdown",
   "id": "3GFOv9VI40yI",
   "metadata": {
    "id": "3GFOv9VI40yI"
   },
   "source": [
    "# TF-IDF Representation"
   ]
  },
  {
   "cell_type": "code",
   "execution_count": null,
   "id": "RX-L_7hty2XY",
   "metadata": {
    "colab": {
     "base_uri": "https://localhost:8080/"
    },
    "id": "RX-L_7hty2XY",
    "outputId": "90f0242e-1e82-4d49-953f-acc4c4955d9e"
   },
   "outputs": [],
   "source": [
    "from sklearn.feature_extraction.text import TfidfVectorizer\n",
    "\n",
    "TV = TfidfVectorizer()\n",
    "\n",
    "X_train_tf = TV.fit_transform(X_train[\"clean_text_lemma\"])\n",
    "\n",
    "print(X_train_tf.shape)"
   ]
  },
  {
   "cell_type": "code",
   "execution_count": null,
   "id": "WWJSglQl4gPk",
   "metadata": {
    "colab": {
     "base_uri": "https://localhost:8080/"
    },
    "id": "WWJSglQl4gPk",
    "outputId": "5cf4c3d5-d1bf-43bb-da2a-30530fd9ef9c"
   },
   "outputs": [],
   "source": [
    "X_test_tf = TV.transform(X_test[\"clean_text_lemma\"])\n",
    "\n",
    "print(X_test_tf.shape)"
   ]
  },
  {
   "cell_type": "markdown",
   "id": "yLrvElWz47Jf",
   "metadata": {
    "id": "yLrvElWz47Jf"
   },
   "source": [
    "# Word2Vec Representation"
   ]
  },
  {
   "cell_type": "code",
   "execution_count": null,
   "id": "HxJU-RXs4urn",
   "metadata": {
    "id": "HxJU-RXs4urn"
   },
   "outputs": [],
   "source": [
    "!pip install --upgrade -q gensim"
   ]
  },
  {
   "cell_type": "code",
   "execution_count": null,
   "id": "uu9xDlVEC0L5",
   "metadata": {
    "colab": {
     "base_uri": "https://localhost:8080/"
    },
    "id": "uu9xDlVEC0L5",
    "outputId": "02f3d756-8115-4c52-bd64-f805f32fd7ba"
   },
   "outputs": [],
   "source": [
    "import gensim\n",
    "\n",
    "print(gensim.__version__)"
   ]
  },
  {
   "cell_type": "code",
   "execution_count": null,
   "id": "MCHCcIotIYXH",
   "metadata": {
    "colab": {
     "base_uri": "https://localhost:8080/",
     "height": 241
    },
    "id": "MCHCcIotIYXH",
    "outputId": "58a0476e-77ae-421f-e0c7-7dfb1ace4361"
   },
   "outputs": [],
   "source": [
    "from gensim.models import Word2Vec\n",
    "\n",
    "X_train['tokenised_sentences'] = X_train.clean_text_stem.apply(lambda sent : sent.split())\n",
    "\n",
    "X_train.head()"
   ]
  },
  {
   "cell_type": "code",
   "execution_count": null,
   "id": "dq44aGRyMjru",
   "metadata": {
    "colab": {
     "base_uri": "https://localhost:8080/"
    },
    "id": "dq44aGRyMjru",
    "outputId": "7a888432-60e2-4c24-fc28-03e224fa798f"
   },
   "outputs": [],
   "source": [
    "list(X_train.tokenised_sentences)"
   ]
  },
  {
   "cell_type": "code",
   "execution_count": null,
   "id": "LdDEEo5vfdE9",
   "metadata": {
    "id": "LdDEEo5vfdE9"
   },
   "outputs": [],
   "source": [
    "# train model\n",
    "\n",
    "model = Word2Vec(list(X_train.tokenised_sentences), vector_size=300, min_count=1)"
   ]
  },
  {
   "cell_type": "code",
   "execution_count": null,
   "id": "7com3EO8iLbM",
   "metadata": {
    "colab": {
     "base_uri": "https://localhost:8080/"
    },
    "id": "7com3EO8iLbM",
    "outputId": "8c0d130e-84f7-43bb-9594-aec0e2db0d57"
   },
   "outputs": [],
   "source": [
    "print(model)"
   ]
  },
  {
   "cell_type": "code",
   "execution_count": null,
   "id": "WGZT6Hb8gJGM",
   "metadata": {
    "colab": {
     "base_uri": "https://localhost:8080/"
    },
    "id": "WGZT6Hb8gJGM",
    "outputId": "a5907193-4e83-4cce-b8cf-6d8669db4cb8"
   },
   "outputs": [],
   "source": [
    "print(model.wv.__getitem__(model.wv.index_to_key).shape)"
   ]
  },
  {
   "cell_type": "code",
   "execution_count": null,
   "id": "dT-FqHHVgeKj",
   "metadata": {
    "id": "dT-FqHHVgeKj"
   },
   "outputs": [],
   "source": [
    "def document_vector(doc, keyed_vectors):\n",
    "    \"\"\"Remove out-of-vocabulary words. Create document vectors by averaging word vectors.\"\"\"\n",
    "    vocab_tokens = [word for word in doc if word in keyed_vectors.index_to_key]\n",
    "    if not vocab_tokens:\n",
    "        return np.zeros(keyed_vectors.vector_size)  # Handle empty vocab_tokens\n",
    "    return np.mean(keyed_vectors.__getitem__(vocab_tokens), axis=0)"
   ]
  },
  {
   "cell_type": "code",
   "execution_count": null,
   "id": "NPYmMbh1koJF",
   "metadata": {
    "colab": {
     "base_uri": "https://localhost:8080/",
     "height": 380
    },
    "id": "NPYmMbh1koJF",
    "outputId": "2f5dcd28-e364-445c-d31e-d4ae3513e8ba"
   },
   "outputs": [],
   "source": [
    "X_train['doc_vector_w2v'] = X_train.tokenised_sentences.apply(lambda x : document_vector(x, model.wv))\n",
    "\n",
    "X_train.head()"
   ]
  },
  {
   "cell_type": "code",
   "execution_count": null,
   "id": "-NA9gbhKkytO",
   "metadata": {
    "id": "-NA9gbhKkytO"
   },
   "outputs": [],
   "source": [
    "X_train_w2v = list(X_train.doc_vector_w2v)"
   ]
  },
  {
   "cell_type": "code",
   "execution_count": null,
   "id": "jYifThxbm-m-",
   "metadata": {
    "colab": {
     "base_uri": "https://localhost:8080/",
     "height": 206
    },
    "id": "jYifThxbm-m-",
    "outputId": "89ff646e-9cb6-406a-f42f-aa0ee120ee35"
   },
   "outputs": [],
   "source": [
    "X_test['tokenised_sentences'] = X_test.clean_text_lemma.apply(lambda sent : sent.split())\n",
    "\n",
    "X_test.head()"
   ]
  },
  {
   "cell_type": "code",
   "execution_count": null,
   "id": "EUlP5x5vmeGQ",
   "metadata": {
    "colab": {
     "base_uri": "https://localhost:8080/",
     "height": 310
    },
    "id": "EUlP5x5vmeGQ",
    "outputId": "2119586e-d6cd-4563-b2ee-96e2cb128aa6"
   },
   "outputs": [],
   "source": [
    "X_test['doc_vector_w2v'] = X_test['tokenised_sentences'].apply(lambda x: document_vector(x, model.wv))\n",
    "X_test.head()"
   ]
  },
  {
   "cell_type": "code",
   "execution_count": null,
   "id": "MaK0AD4Dmq2L",
   "metadata": {
    "id": "MaK0AD4Dmq2L"
   },
   "outputs": [],
   "source": [
    "X_test_w2v = list(X_test.doc_vector_w2v)"
   ]
  },
  {
   "cell_type": "markdown",
   "id": "pJNzC5ORxDcX",
   "metadata": {
    "id": "pJNzC5ORxDcX"
   },
   "source": [
    "# Development of model"
   ]
  },
  {
   "cell_type": "markdown",
   "id": "4BJLcomV7wo0",
   "metadata": {
    "id": "4BJLcomV7wo0"
   },
   "source": [
    "## Bow"
   ]
  },
  {
   "cell_type": "markdown",
   "id": "1pnra1NnyU8r",
   "metadata": {
    "id": "1pnra1NnyU8r"
   },
   "source": [
    "### Logistic Regression BoW"
   ]
  },
  {
   "cell_type": "code",
   "execution_count": null,
   "id": "VfwM8DtaxCCe",
   "metadata": {
    "colab": {
     "base_uri": "https://localhost:8080/"
    },
    "id": "VfwM8DtaxCCe",
    "outputId": "cddeede0-e2ae-4988-d6b7-0e967ada203b"
   },
   "outputs": [],
   "source": [
    "from sklearn.linear_model import LogisticRegression\n",
    "from sklearn.metrics import accuracy_score, classification_report\n",
    "\n",
    "LR_bow = LogisticRegression()\n",
    "\n",
    "LR_bow.fit(X_train_bow, y_train)\n",
    "\n",
    "y_test_pred = LR_bow.predict(X_test_bow)\n",
    "\n",
    "print(accuracy_score(y_test, y_test_pred))\n",
    "\n",
    "print(classification_report(y_test, y_test_pred))"
   ]
  },
  {
   "cell_type": "markdown",
   "id": "zY5Zz6Q06aAK",
   "metadata": {
    "id": "zY5Zz6Q06aAK"
   },
   "source": [
    "Multinomial Logistic Regression"
   ]
  },
  {
   "cell_type": "markdown",
   "id": "wL0jY2w7znxr",
   "metadata": {
    "id": "wL0jY2w7znxr"
   },
   "source": [
    "### Decision Tree BoW"
   ]
  },
  {
   "cell_type": "code",
   "execution_count": null,
   "id": "Gg64p8cTzfDC",
   "metadata": {
    "colab": {
     "base_uri": "https://localhost:8080/"
    },
    "id": "Gg64p8cTzfDC",
    "outputId": "3c02f8f9-e5f7-4424-b992-c11558ca8ae5"
   },
   "outputs": [],
   "source": [
    "from sklearn.tree import DecisionTreeClassifier\n",
    "\n",
    "DTC_bow = DecisionTreeClassifier()\n",
    "\n",
    "DTC_bow.fit(X_train_bow, y_train)\n",
    "\n",
    "y_test_pred = DTC_bow.predict(X_test_bow)\n",
    "\n",
    "print(accuracy_score(y_test, y_test_pred))\n",
    "\n",
    "print(classification_report(y_test, y_test_pred))"
   ]
  },
  {
   "cell_type": "markdown",
   "id": "S6xBS_Ye36d5",
   "metadata": {
    "id": "S6xBS_Ye36d5"
   },
   "source": [
    "### RandomForestClassiffier BoW"
   ]
  },
  {
   "cell_type": "code",
   "execution_count": null,
   "id": "F7ZPx5wh0DcL",
   "metadata": {
    "colab": {
     "base_uri": "https://localhost:8080/"
    },
    "id": "F7ZPx5wh0DcL",
    "outputId": "77121fc2-d23a-42e5-a70a-f783751f014a"
   },
   "outputs": [],
   "source": [
    "from sklearn.ensemble import RandomForestClassifier\n",
    "\n",
    "RFC_bow = RandomForestClassifier()\n",
    "\n",
    "RFC_bow.fit(X_train_bow, y_train)\n",
    "\n",
    "y_test_pred = RFC_bow.predict(X_test_bow)\n",
    "\n",
    "print(accuracy_score(y_test, y_test_pred))\n",
    "\n",
    "print(classification_report(y_test, y_test_pred))"
   ]
  },
  {
   "cell_type": "markdown",
   "id": "hPNQ_6vy4m8s",
   "metadata": {
    "id": "hPNQ_6vy4m8s"
   },
   "source": [
    "### KneighborsClassifier Bow"
   ]
  },
  {
   "cell_type": "code",
   "execution_count": null,
   "id": "tC5NWq1f3dzg",
   "metadata": {
    "colab": {
     "base_uri": "https://localhost:8080/"
    },
    "id": "tC5NWq1f3dzg",
    "outputId": "79bbc66d-d69f-44d6-ed95-c587f77c6ba5"
   },
   "outputs": [],
   "source": [
    "from sklearn.neighbors import KNeighborsClassifier\n",
    "\n",
    "KNC_bow = KNeighborsClassifier()\n",
    "\n",
    "KNC_bow.fit(X_train_bow, y_train)\n",
    "\n",
    "y_test_pred = KNC_bow.predict(X_test_bow)\n",
    "\n",
    "print(accuracy_score(y_test, y_test_pred))\n",
    "\n",
    "print(classification_report(y_test, y_test_pred))"
   ]
  },
  {
   "cell_type": "markdown",
   "id": "7n4coG7O4914",
   "metadata": {
    "id": "7n4coG7O4914"
   },
   "source": [
    "### MultinomialNB Bow"
   ]
  },
  {
   "cell_type": "code",
   "execution_count": null,
   "id": "jqzhyF3j4kSA",
   "metadata": {
    "colab": {
     "base_uri": "https://localhost:8080/"
    },
    "id": "jqzhyF3j4kSA",
    "outputId": "06bc709e-a15c-4db3-b0ce-c9ce10f3fe27"
   },
   "outputs": [],
   "source": [
    "from sklearn.naive_bayes import MultinomialNB\n",
    "\n",
    "MNB_bow = MultinomialNB()\n",
    "\n",
    "MNB_bow.fit(X_train_bow, y_train)\n",
    "\n",
    "y_test_pred = MNB_bow.predict(X_test_bow)\n",
    "\n",
    "print(accuracy_score(y_test, y_test_pred))\n",
    "\n",
    "print(classification_report(y_test, y_test_pred))"
   ]
  },
  {
   "cell_type": "markdown",
   "id": "Bo9xLkkj7tqj",
   "metadata": {
    "id": "Bo9xLkkj7tqj"
   },
   "source": [
    "## TF-IDF"
   ]
  },
  {
   "cell_type": "markdown",
   "id": "akubVWO876yj",
   "metadata": {
    "id": "akubVWO876yj"
   },
   "source": [
    "### Logistic Regression TF-IDF"
   ]
  },
  {
   "cell_type": "code",
   "execution_count": null,
   "id": "uE6rdBEo8UPm",
   "metadata": {
    "colab": {
     "base_uri": "https://localhost:8080/"
    },
    "id": "uE6rdBEo8UPm",
    "outputId": "76bdb74d-6d10-4250-bbab-b495d0fc0bd2"
   },
   "outputs": [],
   "source": [
    "LR_TFIDF = LogisticRegression()\n",
    "\n",
    "LR_TFIDF.fit(X_train_tf, y_train)\n",
    "\n",
    "y_test_pred = LR_TFIDF.predict(X_test_tf)\n",
    "\n",
    "print(accuracy_score(y_test, y_test_pred))\n",
    "\n",
    "print(classification_report(y_test, y_test_pred))"
   ]
  },
  {
   "cell_type": "markdown",
   "id": "4LxznVX479jh",
   "metadata": {
    "id": "4LxznVX479jh"
   },
   "source": [
    "### Decision Tree TF-IDF"
   ]
  },
  {
   "cell_type": "code",
   "execution_count": null,
   "id": "M2t700q-8st8",
   "metadata": {
    "colab": {
     "base_uri": "https://localhost:8080/"
    },
    "id": "M2t700q-8st8",
    "outputId": "bc25691d-9b74-4359-8b12-e607f0ecab2c"
   },
   "outputs": [],
   "source": [
    "DTC_TFIDF = DecisionTreeClassifier()\n",
    "\n",
    "DTC_TFIDF.fit(X_train_tf, y_train)\n",
    "\n",
    "y_test_pred = DTC_TFIDF.predict(X_test_tf)\n",
    "\n",
    "print(accuracy_score(y_test, y_test_pred))\n",
    "\n",
    "print(classification_report(y_test, y_test_pred))"
   ]
  },
  {
   "cell_type": "markdown",
   "id": "lTSNfnz18CeU",
   "metadata": {
    "id": "lTSNfnz18CeU"
   },
   "source": [
    "### Random Forest Classifier TF-IDF"
   ]
  },
  {
   "cell_type": "code",
   "execution_count": null,
   "id": "mJGEseTk9OAF",
   "metadata": {
    "colab": {
     "base_uri": "https://localhost:8080/"
    },
    "id": "mJGEseTk9OAF",
    "outputId": "a064a1ad-7b33-41eb-c797-be694ba0067b"
   },
   "outputs": [],
   "source": [
    "RFC_TFIDF = RandomForestClassifier()\n",
    "\n",
    "RFC_TFIDF.fit(X_train_tf, y_train)\n",
    "\n",
    "y_test_pred = RFC_TFIDF.predict(X_test_tf)\n",
    "\n",
    "print(accuracy_score(y_test, y_test_pred))\n",
    "\n",
    "print(classification_report(y_test, y_test_pred))"
   ]
  },
  {
   "cell_type": "markdown",
   "id": "iycY-a9s8HnM",
   "metadata": {
    "id": "iycY-a9s8HnM"
   },
   "source": [
    "### Kneighbors Classifier TF-IDF"
   ]
  },
  {
   "cell_type": "code",
   "execution_count": null,
   "id": "yX5a1-lK9boi",
   "metadata": {
    "colab": {
     "base_uri": "https://localhost:8080/"
    },
    "id": "yX5a1-lK9boi",
    "outputId": "50a9dc09-9ab2-4e95-8a0b-f84c46f8add4"
   },
   "outputs": [],
   "source": [
    "KNC_TFIDF = KNeighborsClassifier()\n",
    "\n",
    "KNC_TFIDF.fit(X_train_tf, y_train)\n",
    "\n",
    "y_test_pred = KNC_TFIDF.predict(X_test_tf)\n",
    "\n",
    "print(accuracy_score(y_test, y_test_pred))\n",
    "\n",
    "print(classification_report(y_test, y_test_pred))"
   ]
  },
  {
   "cell_type": "markdown",
   "id": "RwKud4HU8Nc1",
   "metadata": {
    "id": "RwKud4HU8Nc1"
   },
   "source": [
    "### MultinomialNB TF-IDF"
   ]
  },
  {
   "cell_type": "code",
   "execution_count": null,
   "id": "1A7Xizl19xiD",
   "metadata": {
    "colab": {
     "base_uri": "https://localhost:8080/"
    },
    "id": "1A7Xizl19xiD",
    "outputId": "b4aefd2f-c843-4a48-f358-5f22a0fc11d5"
   },
   "outputs": [],
   "source": [
    "MNB_TFIDF = MultinomialNB()\n",
    "\n",
    "MNB_TFIDF.fit(X_train_tf, y_train)\n",
    "\n",
    "y_test_pred = MNB_TFIDF.predict(X_test_tf)\n",
    "\n",
    "print(accuracy_score(y_test, y_test_pred))\n",
    "\n",
    "print(classification_report(y_test, y_test_pred))"
   ]
  },
  {
   "cell_type": "markdown",
   "id": "mcdqsyuW-SYY",
   "metadata": {
    "id": "mcdqsyuW-SYY"
   },
   "source": [
    "## Word2Vec"
   ]
  },
  {
   "cell_type": "markdown",
   "id": "LAg8pYJ--Zia",
   "metadata": {
    "id": "LAg8pYJ--Zia"
   },
   "source": [
    "### Logistic Regression Word2Vec"
   ]
  },
  {
   "cell_type": "code",
   "execution_count": null,
   "id": "x_VaGABp_p-N",
   "metadata": {
    "colab": {
     "base_uri": "https://localhost:8080/"
    },
    "id": "x_VaGABp_p-N",
    "outputId": "e32a7794-d976-4757-b3c4-06ef03f057d6"
   },
   "outputs": [],
   "source": [
    "LR_w2v = LogisticRegression()\n",
    "\n",
    "LR_w2v.fit(X_train_w2v, y_train)\n",
    "\n",
    "y_test_pred = LR_w2v.predict(X_test_w2v)\n",
    "\n",
    "print(accuracy_score(y_test, y_test_pred))\n",
    "\n",
    "print(classification_report(y_test, y_test_pred))"
   ]
  },
  {
   "cell_type": "markdown",
   "id": "5It1MCVN_TQV",
   "metadata": {
    "id": "5It1MCVN_TQV"
   },
   "source": [
    "### Decision Tree Word2Vec"
   ]
  },
  {
   "cell_type": "code",
   "execution_count": null,
   "id": "DFQ9nQ60_8ws",
   "metadata": {
    "colab": {
     "base_uri": "https://localhost:8080/"
    },
    "id": "DFQ9nQ60_8ws",
    "outputId": "190abde0-dc37-4e54-83cf-7df7f2eac842"
   },
   "outputs": [],
   "source": [
    "DTC_w2v = DecisionTreeClassifier()\n",
    "\n",
    "DTC_w2v.fit(X_train_w2v, y_train)\n",
    "\n",
    "y_test_pred = DTC_w2v.predict(X_test_w2v)\n",
    "\n",
    "print(accuracy_score(y_test, y_test_pred))\n",
    "\n",
    "print(classification_report(y_test, y_test_pred))"
   ]
  },
  {
   "cell_type": "markdown",
   "id": "wEYgnce9_XaS",
   "metadata": {
    "id": "wEYgnce9_XaS"
   },
   "source": [
    "### Random Forest Classifier Word2Vec"
   ]
  },
  {
   "cell_type": "code",
   "execution_count": null,
   "id": "8jNs9bM9AKj9",
   "metadata": {
    "colab": {
     "base_uri": "https://localhost:8080/"
    },
    "id": "8jNs9bM9AKj9",
    "outputId": "094c66b4-9032-45be-b416-6708109f8f22"
   },
   "outputs": [],
   "source": [
    "RFC_w2v = RandomForestClassifier()\n",
    "\n",
    "RFC_w2v.fit(X_train_w2v, y_train)\n",
    "\n",
    "y_test_pred = RFC_w2v.predict(X_test_w2v)\n",
    "\n",
    "print(accuracy_score(y_test, y_test_pred))\n",
    "\n",
    "print(classification_report(y_test, y_test_pred))"
   ]
  },
  {
   "cell_type": "markdown",
   "id": "5qlM3hKy_fhx",
   "metadata": {
    "id": "5qlM3hKy_fhx"
   },
   "source": [
    "### Kneighbors Classifier Word2Vec"
   ]
  },
  {
   "cell_type": "code",
   "execution_count": null,
   "id": "mjJUelrIAVZ9",
   "metadata": {
    "colab": {
     "base_uri": "https://localhost:8080/"
    },
    "id": "mjJUelrIAVZ9",
    "outputId": "266a1f5c-b5c1-4c80-f9d9-8f7c9931a63d"
   },
   "outputs": [],
   "source": [
    "KNC_w2v = KNeighborsClassifier()\n",
    "\n",
    "KNC_w2v.fit(X_train_w2v, y_train)\n",
    "\n",
    "y_test_pred = KNC_w2v.predict(X_test_w2v)\n",
    "\n",
    "print(accuracy_score(y_test, y_test_pred))\n",
    "\n",
    "print(classification_report(y_test, y_test_pred))"
   ]
  },
  {
   "cell_type": "code",
   "execution_count": null,
   "id": "DdwWM4NV2Xjb",
   "metadata": {
    "id": "DdwWM4NV2Xjb"
   },
   "outputs": [],
   "source": []
  },
  {
   "cell_type": "code",
   "execution_count": null,
   "id": "EMzR_Ewo2arV",
   "metadata": {
    "id": "EMzR_Ewo2arV"
   },
   "outputs": [],
   "source": []
  },
  {
   "cell_type": "code",
   "execution_count": null,
   "id": "oNousI98L8YM",
   "metadata": {
    "colab": {
     "base_uri": "https://localhost:8080/"
    },
    "id": "oNousI98L8YM",
    "outputId": "d734721e-e95e-4e02-8fb0-5bc2522c92f4"
   },
   "outputs": [],
   "source": [
    "filename = \"MNB_bow_model.pkl\"\n",
    "jb.dump(MNB_bow, filename)"
   ]
  },
  {
   "cell_type": "code",
   "execution_count": null,
   "id": "w7BiGJdrMPsH",
   "metadata": {
    "id": "w7BiGJdrMPsH"
   },
   "outputs": [],
   "source": [
    "model_MNB_bow = jb.load(\"MNB_bow_model.pkl\")"
   ]
  },
  {
   "cell_type": "code",
   "execution_count": null,
   "id": "gARfPNRJ6N3U",
   "metadata": {
    "colab": {
     "base_uri": "https://localhost:8080/"
    },
    "id": "gARfPNRJ6N3U",
    "outputId": "1f576cc6-e97b-4bea-b876-83bca00377bc"
   },
   "outputs": [],
   "source": [
    "y_test_pred = model_MNB_bow.predict(X_test_bow)\n",
    "\n",
    "print(accuracy_score(y_test,y_test_pred))"
   ]
  },
  {
   "cell_type": "code",
   "execution_count": null,
   "id": "_ZLkKnXD6tyr",
   "metadata": {
    "colab": {
     "base_uri": "https://localhost:8080/"
    },
    "id": "_ZLkKnXD6tyr",
    "outputId": "39f23df9-7921-4dac-bee9-d185b8ee6c9e"
   },
   "outputs": [],
   "source": [
    "filename = \"CV_vectorizer.pkl\"\n",
    "jb.dump(CV, filename)"
   ]
  },
  {
   "cell_type": "code",
   "execution_count": null,
   "id": "VFTLf725J9EW",
   "metadata": {
    "id": "VFTLf725J9EW"
   },
   "outputs": [],
   "source": [
    "with open('MNB_bow_model.pkl', 'rb') as model:\n",
    "     model = jb.load(model)"
   ]
  },
  {
   "cell_type": "code",
   "execution_count": null,
   "id": "6J452DoLKpv6",
   "metadata": {
    "id": "6J452DoLKpv6"
   },
   "outputs": [],
   "source": [
    "with open('CV_vectorizer.pkl', 'rb') as TF_vect:\n",
    "     vectorizer = jb.load(TF_vect)"
   ]
  },
  {
   "cell_type": "code",
   "execution_count": null,
   "id": "3l_HWKbwLBY3",
   "metadata": {
    "colab": {
     "base_uri": "https://localhost:8080/",
     "height": 53
    },
    "id": "3l_HWKbwLBY3",
    "outputId": "a82f37e6-3356-44d8-c843-8ce6a9e54579"
   },
   "outputs": [],
   "source": [
    "df[\"Review text\"][0]"
   ]
  },
  {
   "cell_type": "code",
   "execution_count": null,
   "id": "wxULeMFkKuDA",
   "metadata": {
    "id": "wxULeMFkKuDA"
   },
   "outputs": [],
   "source": [
    "user_review = \"Nice product, good quality, but price is now rising which is a bad sign. 800-850 was an affordable price, especially when we play everyday. So kindly help us out in terms of the price. Thank You.\"\n",
    "text = vectorizer.transform([user_review])\n",
    "pred = model.predict(text)[0]"
   ]
  },
  {
   "cell_type": "code",
   "execution_count": null,
   "id": "KC3Lk2ZALASJ",
   "metadata": {
    "colab": {
     "base_uri": "https://localhost:8080/",
     "height": 35
    },
    "id": "KC3Lk2ZALASJ",
    "outputId": "fac64db0-054c-4e3f-c70e-282117e6aa7f"
   },
   "outputs": [],
   "source": [
    "pred"
   ]
  },
  {
   "cell_type": "code",
   "execution_count": null,
   "id": "BtDVQbIvLWM8",
   "metadata": {
    "id": "BtDVQbIvLWM8"
   },
   "outputs": [],
   "source": []
  }
 ],
 "metadata": {
  "accelerator": "GPU",
  "colab": {
   "gpuType": "T4",
   "provenance": []
  },
  "kernelspec": {
   "display_name": "Python 3 (ipykernel)",
   "language": "python",
   "name": "python3"
  },
  "language_info": {
   "codemirror_mode": {
    "name": "ipython",
    "version": 3
   },
   "file_extension": ".py",
   "mimetype": "text/x-python",
   "name": "python",
   "nbconvert_exporter": "python",
   "pygments_lexer": "ipython3",
   "version": "3.12.4"
  }
 },
 "nbformat": 4,
 "nbformat_minor": 5
}
